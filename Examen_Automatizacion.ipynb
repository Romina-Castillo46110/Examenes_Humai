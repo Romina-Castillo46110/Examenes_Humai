{
  "nbformat": 4,
  "nbformat_minor": 0,
  "metadata": {
    "kernelspec": {
      "display_name": "Python 3",
      "language": "python",
      "name": "python3"
    },
    "language_info": {
      "codemirror_mode": {
        "name": "ipython",
        "version": 3
      },
      "file_extension": ".py",
      "mimetype": "text/x-python",
      "name": "python",
      "nbconvert_exporter": "python",
      "pygments_lexer": "ipython3",
      "version": "3.7.7"
    },
    "colab": {
      "provenance": [],
      "include_colab_link": true
    }
  },
  "cells": [
    {
      "cell_type": "markdown",
      "metadata": {
        "id": "view-in-github",
        "colab_type": "text"
      },
      "source": [
        "<a href=\"https://colab.research.google.com/github/Romina-Castillo46110/Examenes_Humai/blob/main/Examen_Automatizacion.ipynb\" target=\"_parent\"><img src=\"https://colab.research.google.com/assets/colab-badge.svg\" alt=\"Open In Colab\"/></a>"
      ]
    },
    {
      "cell_type": "markdown",
      "metadata": {
        "id": "TgeDuTe8GJBz"
      },
      "source": [
        "<center><img src='https://storage.googleapis.com/humai-datasets/static/logos/estudiante.png' width='150px' margin='100px'></img></center>\n",
        "<center><img src='https://storage.googleapis.com/humai-datasets/static/logos/humai(1).png' width='150px' margin='100px'></img></center>\n",
        "\n",
        "\n",
        "Evaluación - Automatización y Web Scraping\n",
        "\n",
        "\n",
        "\n",
        "---"
      ]
    },
    {
      "cell_type": "markdown",
      "metadata": {
        "id": "sp1lt8qaNGgA"
      },
      "source": [
        "#### Al comenzar:\n",
        "1. **Guardar una copia** de la Colab en tu Google Drive al empezar para poder guardar las respuestas.  \n",
        "```Archivo (File) -> Guardar una copia en drive (Save a copy on Drive) ```\n",
        "2. **Completar** más abajo con tu nombre completo, apellido y mail\n",
        "\n",
        "#### Al finalizar:\n",
        "3. Configurar los permisos del colab utilizado para resolver el examen, para que cualquier persona tenga acceso como \"Lector\". Copiar y pegar el link en la sección correspondiente del cuestionario que figura en el Campus Virtual.\n",
        "4. Revisar todas tus respuestas.\n",
        "\n",
        "El tiempo máximo es de 90 minutos."
      ]
    },
    {
      "cell_type": "markdown",
      "source": [
        "## Código de Conducta\n",
        "Durante el examen pueden buscar en Google, ver el material de clases pasadas o apuntes propios, pero **no se permite consultar a otras personas**.  \n",
        "\n",
        "Aceptar\tser\testudiante\tde Humai conlleva\tla\tobligación de\tuna\tconducta honesta,\tética,\tde\tintegridad y honestidad académica.\n",
        "\n",
        "Esta instancia de evaluación ofrecida por Humai exige un estricto apego a los valores de honestidad intelectual propias a la labor del estudiante. Fallar ante los mismos consistuye no solo un perjucio a la moral y la relación educativa en buena fe, si no que socava el propio esfuerzo de aprendizaje.\n",
        "\n",
        "El plagio y uso abusivo de material intelectual ajeno es considerado una deshonestidad académica. En caso de sospechar una falta al código de Ética, se deliberará una sanción correspondiente que puede incluir la anulación del examen, la suspensión o expulsión de la cursada.\n",
        "\n",
        "En caso de estar de acuerdo, aceptar la siguiente\n",
        "declaración:\n",
        "\n",
        "```Declaro mi compromiso en desempeñarme con honestidad académica e intelectual, y mantener los más altos estándares éticos aplicando los conocimientos contemplados en Humai```"
      ],
      "metadata": {
        "id": "003S451qNb-s"
      }
    },
    {
      "cell_type": "code",
      "source": [
        "Acepto=True #@param{type:\"boolean\"}\n",
        "\n",
        "assert Acepto, 'Se debe aceptar el código de conducta'"
      ],
      "metadata": {
        "cellView": "form",
        "id": "YBE_GF0hM9ro"
      },
      "execution_count": 3,
      "outputs": []
    },
    {
      "cell_type": "markdown",
      "source": [
        "No pierdan de vista el total de los ejercicios para administrar el tiempo, les sugerimos que completen primero lo que tengan más claro. Dicho eso."
      ],
      "metadata": {
        "id": "0fEMC8EkSqrI"
      }
    },
    {
      "cell_type": "code",
      "metadata": {
        "id": "MkOzELdMkobR",
        "cellView": "form",
        "outputId": "0830b88f-d87e-4ae3-a0f7-6fe4ad4de942",
        "colab": {
          "base_uri": "https://localhost:8080/"
        }
      },
      "source": [
        "#@markdown Datos del estudiante<br><br>\n",
        "#@markdown Ejecutar celda y dar permisos a Google Colab<br><br>\n",
        "\n",
        "import re\n",
        "\n",
        "if 'Acepto' not in globals() or Acepto == False:\n",
        "  raise ValueError('Debes aceptar el codigo de conducta y ejecutar ambas celdas')\n",
        "\n",
        "from datetime import datetime, timedelta\n",
        "_hora = datetime.utcnow()\n",
        "# en arg estamos en utc-3\n",
        "_desfase = timedelta(hours=3)\n",
        "# decimos en qué formato queremos la fecha\n",
        "# ver más en https://realpython.com/python-time-module/\n",
        "_formato = \"%m-%d-%Y_%H:%M:%S\"\n",
        "_fecha_inicio = (_hora - _desfase).strftime(_formato)\n",
        "print((_hora - _desfase).strftime(\"%m/%d/%Y, %H:%M:%S\"))\n",
        "\n",
        "_nombre_completo = 'Romina Castillo' #@param {type:\"string\"}\n",
        "_mail = 'romina.castillo195@gmail.com' #@param {type:\"string\"}\n",
        "\n",
        "if len(_nombre_completo) <= 0 or len(_mail) <= 0:\n",
        "  raise ValueError('Es necesario completar nombre completo y mail')\n",
        "\n",
        "# if re.fullmatch(r\"\\s@\\w+\\.com(?:\\.\\w+)?\", _mail, flags=re.IGNORECASE) is None:\n",
        "#   raise ValueError('Es necesario ingresar un mail válido')\n",
        "\n",
        "for i in range(20):\n",
        "  v = f'respuesta_{i}'\n",
        "  if v not in globals():\n",
        "    globals()[v] = ''"
      ],
      "execution_count": 4,
      "outputs": [
        {
          "output_type": "stream",
          "name": "stdout",
          "text": [
            "08/22/2024, 16:05:29\n"
          ]
        }
      ]
    },
    {
      "cell_type": "markdown",
      "source": [
        "<center> 🏁 ¡Muchos éxitos 🤓! 🏁 </center>\n",
        "\n",
        "---"
      ],
      "metadata": {
        "id": "GE3nrlSrBViX"
      }
    },
    {
      "cell_type": "markdown",
      "metadata": {
        "id": "D23jC_VdGJB0"
      },
      "source": [
        "#### 1. Las Expresiones Regulares NO sirven para:\n",
        "\n",
        "*1 punto*"
      ]
    },
    {
      "cell_type": "code",
      "metadata": {
        "id": "AqSbn3YxWCGC",
        "cellView": "form"
      },
      "source": [
        "#@markdown Hacer pedidos HTTP\n",
        "A = True #@param{type:\"boolean\"}\n",
        "#@markdown Buscar strings dentro de strings\n",
        "B = False #@param {type:\"boolean\"}\n",
        "#@markdown Descargar código HTML\n",
        "C = True #@param {type:\"boolean\"}\n",
        "#@markdown Limpiar secuencias de caracteres\n",
        "D = False #@param {type:\"boolean\"}\n",
        "\n",
        "respuesta_1 = [A, B, C, D]"
      ],
      "execution_count": 5,
      "outputs": []
    },
    {
      "cell_type": "markdown",
      "metadata": {
        "id": "ujQn5N-8W2k8"
      },
      "source": [
        "#### 2. Supón que tienes el siguiente fragmento de código HTML y deseas extraer el texto del párrafo utilizando XPath.\n",
        "```html\n",
        "<div class=\"content\">\n",
        "    <p>Este es el texto que deseas extraer</p>\n",
        "</div>\n",
        "\n",
        "```\n",
        "¿Cuál es la expresión XPath correcta para seleccionar el texto del párrafo?\n",
        "\n",
        "*1 punto*"
      ]
    },
    {
      "cell_type": "code",
      "metadata": {
        "id": "o61O0Ni4W7ys",
        "cellView": "form"
      },
      "source": [
        "\n",
        "xpath = \"//div[@class='content']/p\" #@param [\"Selecciona una opcion\", \"div.content.p\", \"//*[@id='content']/p\",\"//div[@class='content']/p\", \"//p[@class='content']\"]\n",
        "respuesta_2 = xpath"
      ],
      "execution_count": 6,
      "outputs": []
    },
    {
      "cell_type": "markdown",
      "metadata": {
        "id": "kpPHtF8PGJB0"
      },
      "source": [
        "#### 3. No suele ser particularmente conveniente usar Selenium cuando:\n",
        "\n",
        "*1 punto*"
      ]
    },
    {
      "cell_type": "code",
      "metadata": {
        "id": "c5SCdJahXCzo",
        "cellView": "form"
      },
      "source": [
        "#@markdown Hay contenido generado de manera asincrónica\n",
        "A = False #@param{type:\"boolean\"}\n",
        "#@markdown El contenido que buscamos se genera con JavaScript\n",
        "B = False #@param {type:\"boolean\"}\n",
        "#@markdown La página es antigua\n",
        "C = True #@param {type:\"boolean\"}\n",
        "#@markdown El sitio muestra más contenido ante la interacción\n",
        "D = False #@param {type:\"boolean\"}\n",
        "\n",
        "respuesta_3 = [A, B, C, D]"
      ],
      "execution_count": 7,
      "outputs": []
    },
    {
      "cell_type": "markdown",
      "metadata": {
        "id": "8FzDyOJwZMRC"
      },
      "source": [
        "#### 4. En el siguiente código html:\n",
        "*1 punto*\n",
        "\n",
        "```html\n",
        "<a href=\"/wiki/Anexo:Premio_Grammy_a_la_mejor_interpretaci%C3%B3n_en_un_video_musical\"\n",
        "   title=\"Anexo:Premio Grammy a la mejor interpretación en un video musical\">\n",
        "Anexo:Premio Grammy a la mejor interpretación en un video musical\n",
        "</a>\n",
        "```\n",
        "el \"*title*\" es un/a:\n"
      ]
    },
    {
      "cell_type": "code",
      "metadata": {
        "id": "f2PIugQTZMRC",
        "cellView": "form"
      },
      "source": [
        "#@markdown Atributo\n",
        "A = True #@param{type:\"boolean\"}\n",
        "#@markdown Etiqueta\n",
        "B = False #@param {type:\"boolean\"}\n",
        "#@markdown Variable\n",
        "C = False #@param {type:\"boolean\"}\n",
        "#@markdown Constante\n",
        "D  = False #@param {type:\"boolean\"}\n",
        "\n",
        "respuesta_4 = [A, B, C, D]"
      ],
      "execution_count": 8,
      "outputs": []
    },
    {
      "cell_type": "markdown",
      "metadata": {
        "id": "4dxJOHFbX4zX"
      },
      "source": [
        "#### 5. El codigo de error 500:\n",
        "\n",
        "*1 punto*\n",
        "\n",
        "**marcar todas las correctas**\n"
      ]
    },
    {
      "cell_type": "code",
      "metadata": {
        "id": "Kg61heT8X4zY",
        "cellView": "form"
      },
      "source": [
        "#@markdown Es un error del lado del cliente\n",
        "A = False #@param{type:\"boolean\"}\n",
        "#@markdown Es un error del lado del servidor\n",
        "B = True #@param {type:\"boolean\"}\n",
        "#@markdown Es el código de error de un pedido HTTP\n",
        "C = False #@param {type:\"boolean\"}\n",
        "#@markdown Es el código de error de un pedido HTML\n",
        "D = True #@param {type:\"boolean\"}\n",
        "\n",
        "respuesta_5 = [A, B, C, D]"
      ],
      "execution_count": 9,
      "outputs": []
    },
    {
      "cell_type": "markdown",
      "metadata": {
        "id": "56pB-ZaXGJB0"
      },
      "source": [
        "#### 6. Usar expresiones regulares (regex) para extraer los codigos N-ID del siguiente del siguiente texto:\n",
        "\n",
        "Los codigos N-ID son aquellos codigos conformados por digitos y letras.\n",
        "\n",
        "*1 punto*\n",
        "\n",
        "Guardar la lista de codigos en una variable `respuesta_6`"
      ]
    },
    {
      "cell_type": "code",
      "metadata": {
        "id": "s8aWqvPFGJB0"
      },
      "source": [
        "texto = '''Datos del Empleador:Javier Morales \\n\n",
        "CUIT:2039481034 \\n Contacto:jmorales@opensource.com\n",
        "\\n N-ID:813h19djasdj293j \\n Datos del Empleador: Rodrigo Perez \\n\n",
        "CUIT:2384923483 \\n Contacto: rperez@opensource.com.ar \\n N-ID: 283h1fa93ns8dj3a \\n\n",
        "Datos del Empleador: Sofía Regex \\n CUIT:2374813948 Contacto: sregex@amen.py \\n N-ID: 29283hdj37g9J2s6'''"
      ],
      "execution_count": 10,
      "outputs": []
    },
    {
      "cell_type": "code",
      "source": [
        "import re\n",
        "\n",
        "patron = r'N-ID:\\s*(\\w+)'\n",
        "codigos = re.findall(patron, texto)\n",
        "respuesta_6 = set(codigos)"
      ],
      "metadata": {
        "id": "5MtOIzaqhJuN"
      },
      "execution_count": 11,
      "outputs": []
    },
    {
      "cell_type": "code",
      "source": [
        "#@title Correr esta celda, copiar la respuesta y pegar el texto en el campus\n",
        "try:\n",
        "  display(str(list(respuesta_6)))\n",
        "except (NameError):\n",
        "  print(\"No se guardo una respuesta en la varible respuesta_6, copiar la siguinte respuesta:\")\n",
        "  display(str([]))\n",
        "except:\n",
        "  display(str([]))\n"
      ],
      "metadata": {
        "id": "0m6cxWb-smrj",
        "outputId": "7af7f295-9310-4243-927a-b669188aa2b5",
        "colab": {
          "base_uri": "https://localhost:8080/",
          "height": 35
        }
      },
      "execution_count": 12,
      "outputs": [
        {
          "output_type": "display_data",
          "data": {
            "text/plain": [
              "\"['813h19djasdj293j', '283h1fa93ns8dj3a', '29283hdj37g9J2s6']\""
            ],
            "application/vnd.google.colaboratory.intrinsic+json": {
              "type": "string"
            }
          },
          "metadata": {}
        }
      ]
    },
    {
      "cell_type": "markdown",
      "metadata": {
        "id": "o-8E8sS2GJB0"
      },
      "source": [
        "#### 7. Extraer todos los links del sitio **`https://www.ambito.com/sitemap.xml`**\n",
        "\n",
        "Pueden usar requests o Selenium, y Beautiful Soup o Regex.\n",
        "\n",
        "*1 punto*\n",
        "\n",
        "Guardar la lista de links en una variable `respuesta_7`"
      ]
    },
    {
      "cell_type": "code",
      "metadata": {
        "id": "PxyIcyizGJB0"
      },
      "source": [
        "import requests\n",
        "from bs4 import BeautifulSoup\n",
        "url = 'https://www.ambito.com/sitemap.xml'\n",
        "response = requests.get(url)\n",
        "soup = BeautifulSoup(response.content, 'xml')\n",
        "links = soup.find_all('loc')\n",
        "respuesta_7 = set([link.text for link in links])"
      ],
      "execution_count": 13,
      "outputs": []
    },
    {
      "cell_type": "code",
      "source": [
        "#@title Correr esta celda, copiar la respuesta y pegar el texto en el campus\n",
        "try:\n",
        "  display(str(list(respuesta_7)))\n",
        "except (NameError):\n",
        "  print(\"No se guardo una respuesta en la varible respuesta_7, copiar la siguinte respuesta:\")\n",
        "  display(str([]))\n",
        "except:\n",
        "  display(str([]))\n"
      ],
      "metadata": {
        "id": "MDsXjmCvsk1x",
        "outputId": "f3ff0fc7-c8c8-4f05-f0bc-db22923a32df",
        "colab": {
          "base_uri": "https://localhost:8080/",
          "height": 105
        }
      },
      "execution_count": 14,
      "outputs": [
        {
          "output_type": "display_data",
          "data": {
            "text/plain": [
              "\"['https://www.ambito.com/deportes/southampton-recibira-nottingham-forest-la-fecha-2-n6051431', 'https://www.ambito.com/deportes/por-la-fecha-2-crystal-palace-recibira-west-ham-united-n6051428', 'https://www.ambito.com/informacion-general/el-tramite-anses-que-es-completamente-gratuito-y-todos-deben-realizar-2024-n6051462', 'https://www.ambito.com/finanzas/dolar-hoy-cuanto-opera-este-jueves-22-agosto-n6051340', 'https://www.ambito.com/politica/la-dura-critica-patricia-bullrich-mauricio-macri-voltear-el-dnu-la-side-n6051655', 'https://www.ambito.com/negocios/invertir-proposito-tru-by-hilton-bariloche-n6050822', 'https://www.ambito.com/deportes/por-la-fecha-11-se-enfrentaran-uai-urquiza-y-dep-merlo-n6051405', 'https://www.ambito.com/deportes/historico-la-generacion-dorada-regresa-celebrar-los-20-anos-del-oro-olimpico-n6051518', 'https://www.ambito.com/finanzas/mercado-libre-lanza-su-propia-stablecoin-que-se-trata-y-como-funciona-meli-dolar-n6051660', 'https://www.ambito.com/deportes/augsburg-y-werder-bremen-se-miden-primera-vez-el-campeonato-n6051399', 'https://www.ambito.com/economia/en-el-mercado-anticipan-nuevas-subas-la-tasa-japon-n6051233', 'https://www.ambito.com/informacion-general/alerta-ciclogenesis-frio-extremo-viento-intenso-y-lluvias-cuales-son-las-provincias-afectadas-y-como-seguira-el-clima-el-amba-n6051441', 'https://www.ambito.com/opiniones/argentina-necesita-proyectos-que-beneficien-los-ninos-n6051357', 'https://www.ambito.com/negocios/grupo-corven-impulsa-el-futuro-del-transporte-expo-transporte-2024-n6051545', 'https://www.ambito.com/municipios/moron-lanzo-una-campana-prevencion-la-ciberludopatia-n6051483', 'https://www.ambito.com/deportes/conmebol-copa-sudamericana-sp-ameliano-vs-libertad-llave-5-n6050130', 'https://www.ambito.com/finanzas/real-blue-cuanto-opero-este-miercoles-21-agosto-n6051603', 'https://www.ambito.com/informacion-general/la-justicia-rechazo-la-excarcelacion-del-padre-julio-cesar-grassi-n6051670', 'https://www.ambito.com/deportes/se-enfrentan-bolivar-y-flamengo-la-llave-8-n6051393', 'https://www.ambito.com/deportes/fulham-se-enfrentara-leicester-city-la-fecha-2-n6051429', 'https://www.ambito.com/finanzas/dolar-blue-hoy-cuanto-cotiza-este-miercoles-21-agosto-n6050908', 'https://www.ambito.com/negocios/fue-una-destacada-multimillonaria-el-mundo-del-arte-y-hoy-remata-su-casa-pagar-sus-deudas-n6051270', 'https://www.ambito.com/deportes/por-la-fecha-2-inter-recibira-lecce-n6051465', 'https://www.ambito.com/negocios/atanor-el-centro-la-tormenta-amenaza-despidos-y-acusaciones-medio-una-crisis-ambiental-n6051624', 'https://www.ambito.com/economia/ricardo-arriazu-si-devaluamos-se-acaba-todo-n6051278', 'https://www.ambito.com/politica/ariel-lijo-se-presenta-el-senado-defender-su-candidatura-la-corte-suprema-n6051028', 'https://www.ambito.com/finanzas/dolar-hoy-cuanto-opera-este-miercoles-21-agosto-n6050904', 'https://www.ambito.com/deportes/inglaterra-premier-league-wolverhampton-vs-chelsea-fecha-2-n6051435', 'https://www.ambito.com/deportes/inglaterra-premier-league-bournemouth-vs-newcastle-united-fecha-2-n6051434', 'https://www.ambito.com/deportes/portugal-primera-division-arouca-vs-nacional-madeira-fecha-3-n6051592', 'https://www.ambito.com/finanzas/el-sp-merval-cae-toma-ganancias-y-el-riesgo-pais-vuelve-superar-los-1500-puntos-n6051119', 'https://www.ambito.com/finanzas/dolar-hoy-y-dolar-blue-hoy-minuto-minuto-cuanto-opera-este-jueves-22-agosto-n6051438', 'https://www.ambito.com/economia/la-secretaria-comercio-derogo-tres-normas-que-promovian-el-control-las-empresas-n6051397', 'https://www.ambito.com/informacion-general/alerta-educacion-solo-1-cada-4-alumnos-15-anos-puede-resolver-un-ejercicio-basico-matematica-n6051453', 'https://www.ambito.com/finanzas/dolares-del-blanqueo-que-oportunidades-ofrece-el-mercado-los-fondos-ingresados-n6051391', 'https://www.ambito.com/deportes/boca-va-la-clasificacion-brasil-cruzeiro-horario-tv-y-formaciones-n6051536', 'https://www.ambito.com/real-estate/la-crisis-impacta-los-hoteles-alojamiento-y-los-desarrolladores-ponen-el-ojo-sus-terrenos-n6051183', 'https://www.ambito.com/politica/elecciones-brasil-quien-es-el-milei-floripa-el-imitador-que-busca-ganar-los-comicios-municipales-n6051564', 'https://www.ambito.com/politica/martin-lousteau-debate-reforma-jubilatoria-cuando-se-le-va-la-mano-al-presidente-hay-gente-que-no-puede-vivir-n6051682', 'https://www.ambito.com/deportes/se-enfrentan-aston-villa-y-arsenal-la-fecha-2-n6051433', 'https://www.ambito.com/deportes/por-la-fecha-2-espanyol-recibira-real-sociedad-n6051511', 'https://www.ambito.com/espectaculos/asi-es-la-mansion-us60-millones-que-venden-jennifer-lopez-y-ben-affleck-medio-su-divorcio-n6051479', 'https://www.ambito.com/economia/la-industria-sigue-caida-libre-cayo-casi-6-julio-la-comparacion-interanual-segun-fiel-n6051245', 'https://www.ambito.com/deportes/barcelona-se-enfrenta-la-visita-athletic-bilbao-la-fecha-2-n6051508', 'https://www.ambito.com/informacion-general/que-significa-ser-un-chad-el-termino-que-se-volvio-viral-las-redes-sociales-n6051586', 'https://www.ambito.com/informacion-general/cambia-la-sube-partir-esta-fecha-asi-se-va-viajar-colectivos-y-trenes-n6051553', 'https://www.ambito.com/deportes/getafe-recibira-rayo-vallecano-la-fecha-2-n6051507', 'https://www.ambito.com/politica/mauricio-macri-fondo-contra-el-gobierno-milei-hace-ocho-meses-que-nos-vienen-boludeando-n6051335', 'https://www.ambito.com/deportes/espana-primera-division-alaves-vs-betis-fecha-2-n6051513', 'https://www.ambito.com/deportes/alemania-bundesliga-wolfsburgo-vs-bayern-munich-fecha-1-n6051401', 'https://www.ambito.com/espectaculos/relatos-salvajes-la-pelicula-nacional-mas-taquillera-la-historia-vuelve-los-cines-10-anos-su-estreno-n6051294', 'https://www.ambito.com/deportes/francia-primera-division-psg-vs-montpellier-fecha-2-n6050529', 'https://www.ambito.com/politica/en-medio-del-caso-loan-el-senado-aprobo-un-proyecto-contra-la-comercializacion-menores-n6051631', 'https://www.ambito.com/espectaculos/taylor-swift-hablo-primera-vez-la-suspension-sus-conciertos-viena-amenazas-terroristas-n6051556', 'https://www.ambito.com/mundo/tragedia-sicilia-hallan-otros-cinco-cuerpos-el-naufragio-del-yate-lujo-n6051474', 'https://www.ambito.com/economia/salario-metalurgicos-cuanto-cobraran-septiembre-el-acuerdo-n6051678', 'https://www.ambito.com/deportes/por-la-fecha-29-tristan-suarez-recibira-san-miguel-n6051426', 'https://www.ambito.com/informacion-general/dia-internacional-conmemoracion-las-victimas-actos-violencia-basados-la-religion-o-las-creencias-que-se-conmemora-cada-22-agosto-n6051228', 'https://www.ambito.com/deportes/alemania-bundesliga-fc-st-pauli-vs-heidenheim-fecha-1-n6051402', 'https://www.ambito.com/informacion-general/paro-colectivos-cuando-comienza-y-que-lineas-estaran-afectadas-n6051412', 'https://www.ambito.com/economia/blanqueo-se-podran-regularizar-us200000-costo-cero-n6051201', 'https://www.ambito.com/deportes/argentina-primera-nacional-temperley-vs-atlanta-fecha-29-n6051421', 'https://www.ambito.com/deportes/borussia-dortmund-y-eintracht-frankfurt-juegan-la-fecha-1-del-campeonato-n6051403', 'https://www.ambito.com/economia/boom-importaciones-chinas-brasil-una-amenaza-el-mercosur-n6051310', 'https://www.ambito.com/deportes/manchester-city-se-enfrenta-la-visita-ipswich-town-la-fecha-2-n6051430', 'https://www.ambito.com/finanzas/dolar-hoy-y-dolar-blue-hoy-minuto-minuto-cuanto-opera-este-miercoles-21-agosto-n6050978', 'https://www.ambito.com/mundo/donald-trump-retoma-sus-actos-campana-al-aire-libre-el-atentado-n6051260', 'https://www.ambito.com/espectaculos/retiran-trailer-megalopolis-incluir-citas-falsas-criticos-otras-peliculas-francis-ford-coppola-n6051582', 'https://www.ambito.com/politica/reencuentro-el-abrazo-karina-milei-y-una-expareja-del-presidente-n6051355', 'https://www.ambito.com/deportes/conmebol-copa-sudamericana-belgrano-vs-athletico-paranaense-llave-3-n6050127', 'https://www.ambito.com/informacion-general/nuevos-alberto-fernandez-fabiola-yanez-mi-consejo-es-que-hables-lo-menos-posible-n6051440', 'https://www.ambito.com/espectaculos/premios-martin-fierro-2024-todos-los-nominados-n6051243', 'https://www.ambito.com/deportes/argentina-primera-division-san-lorenzo-vs-talleres-fecha-12-n6051490', 'https://www.ambito.com/tecnologia/el-truco-infalible-aumentar-la-privacidad-whatsapp-web-n6050832', 'https://www.ambito.com/informacion-general/la-nueva-cepa-mortal-la-viruela-del-mono-se-expande-detectaron-el-primer-caso-tailandia-n6051667', 'https://www.ambito.com/deportes/olympique-lyon-y-monaco-se-encuentran-la-fecha-2-n6051577', 'https://www.ambito.com/deportes/por-la-fecha-2-se-enfrentaran-tottenham-y-everton-n6051432', 'https://www.ambito.com/deportes/lanus-recibira-liga-quito-la-llave-8-n6050133', 'https://www.ambito.com/finanzas/wall-street-opera-al-alza-crece-la-conviccion-un-recorte-tasas-n6051568', 'https://www.ambito.com/finanzas/oro-vs-petroleo-cual-tocara-nuevos-maximos-y-que-eventos-impactaran-sus-precios-n6051200', 'https://www.ambito.com/deportes/inglaterra-premier-league-liverpool-vs-brentford-fecha-2-n6051436', 'https://www.ambito.com/finanzas/real-blue-cuanto-opera-este-martes-20-agosto-n6051059', 'https://www.ambito.com/deportes/benfica-se-enfrenta-la-visita-estrela-amadora-la-fecha-3-n6051588', 'https://www.ambito.com/finanzas/nuevo-reves-argentina-autorizan-embargar-activos-eeuu-deuda-us187-millones-2001-n6051315', 'https://www.ambito.com/mundo/shein-y-aliexpress-alerta-hallaron-sustancias-toxicas-perjudiciales-la-salud-sus-productos-n6051224', 'https://www.ambito.com/deportes/dock-sud-se-enfrenta-la-visita-canuelas-la-fecha-11-n6051404', 'https://www.ambito.com/deportes/francia-primera-division-nice-vs-toulouse-fecha-2-n6051575', 'https://www.ambito.com/finanzas/chau-plazo-fijo-en-que-invertir-hoy-ganarle-al-dolar-y-la-inflacion-n6050846', 'https://www.ambito.com/politica/tras-la-denuncia-violencia-genero-lourdes-arrieta-la-libertad-avanza-respaldo-nicolas-mayoraz-n6051378', 'https://www.ambito.com/finanzas/subio-la-tasa-plazo-fijo-cuanto-se-gana-500000-un-mes-n6051446', 'https://www.ambito.com/deportes/san-lorenzo-revelo-una-supuesta-oferta-batalla-y-estallo-la-polemica-falsifico-los-papeles-n6051696', 'https://www.ambito.com/energia/reversion-del-gasoducto-norte-finalizo-la-construccion-100-km-cordoba-n6051326', 'https://www.ambito.com/economia/el-gobierno-fijo-el-nuevo-salario-minimo-docente-n6051410', 'https://www.ambito.com/deportes/conmebol-copa-sudamericana-fortaleza-vs-rosario-central-llave-1-n6049914', 'https://www.ambito.com/mundo/elecciones-eeuu-la-impactante-cifra-millonaria-que-recaudo-kamala-harris-su-anuncio-n6051680', 'https://www.ambito.com/politica/el-senor-tabaco-demanda-un-periodista-difamacion-y-le-reclama-us2-millones-n6051585', 'https://www.ambito.com/deportes/argentina-primera-nacional-almagro-vs-dep-madryn-fecha-29-n6051422', 'https://www.ambito.com/politica/patricia-bullrich-estallo-contra-los-diputados-del-pro-el-dnu-la-side-eligieron-ponerse-del-lado-las-mafias-n6051297', 'https://www.ambito.com/economia/motosierra-el-gobierno-aplico-un-ajuste-el-presupuesto-ambiental-casi-un-50-real-n6051167', 'https://www.ambito.com/deportes/francia-primera-division-lens-vs-stade-brestois-fecha-2-n6051572', 'https://www.ambito.com/mundo/nicolas-maduro-firme-el-poder-el-tribunal-supremo-venezuela-convalido-su-reeleccion-electoral-n6051718', 'https://www.ambito.com/tecnologia/netflix-anuncio-el-videojuego-el-juego-del-calamar-cuando-se-estrena-n6051332', 'https://www.ambito.com/finanzas/euro-hoy-y-euro-blue-hoy-cuanto-opera-este-miercoles-21-agosto-n6050915', 'https://www.ambito.com/deportes/diego-milito-anuncio-que-sera-candidato-presidente-racing-n6051627', 'https://www.ambito.com/economia/las-provincias-aplican-su-propia-motosierra-tienen-superavit-pesar-la-caida-ingresos-n6051647', 'https://www.ambito.com/deportes/argentina-primera-nacional-g-brown-madryn-vs-estudiantes-ba-fecha-29-n6051414', 'https://www.ambito.com/deportes/independiente-medellin-se-enfrentara-palestino-la-llave-7-n6050132', 'https://www.ambito.com/informacion-general/el-prefecto-cultura-y-educacion-del-vaticano-visito-la-sede-scholas-el-barrio-31-n6051681', 'https://www.ambito.com/politica/luis-petri-defendio-el-proyecto-que-las-fuerzas-armadas-puedan-intervenir-la-seguridad-interior-n6051282', 'https://www.ambito.com/finanzas/no-es-bitcoin-la-criptomoneda-que-acumula-una-suba-casi-30-la-semana-n6051551', 'https://www.ambito.com/real-estate/medicos-la-construccion-como-es-la-empresa-que-revoluciona-el-mercado-inmobiliario-n6051600', 'https://www.ambito.com/deportes/conmebol-copa-libertadores-sao-paulo-vs-nacional-llave-5-n6050124', 'https://www.ambito.com/deportes/argentina-primera-division-racing-club-vs-independiente-fecha-12-n6051491', 'https://www.ambito.com/espectaculos/manuel-morquecho-la-imagen-hipnotica-mundos-propios-n6051651', 'https://www.ambito.com/deportes/lille-y-angers-se-miden-la-fecha-2-n6051571', 'https://www.ambito.com/espectaculos/max-presento-el-trailer-y-confirmo-la-fecha-estreno-uno-los-nuestros-david-chase-y-los-soprano-n6051538', 'https://www.ambito.com/informacion-general/la-embajada-eeuu-emitio-una-alerta-los-turistas-los-ataques-viudas-negras-caba-n6051652', 'https://www.ambito.com/espectaculos/la-fiscalia-paris-solicita-un-segundo-juicio-gerard-depardieu-acusaciones-violacion-n6051596', 'https://www.ambito.com/informacion-general/transporte-uta-advirtio-posibles-conflictos-que-alteren-la-paz-social-la-eliminacion-la-red-sube-n6051350', 'https://www.ambito.com/informacion-general/ex-potenciar-trabajo-el-tramite-que-deben-hacer-poder-seguir-cobrando-septiembre-2024-n6051703', 'https://www.ambito.com/espectaculos/inician-una-peticion-online-salvar-una-serie-star-wars-cancelada-disney-n6051448', 'https://www.ambito.com/finanzas/el-dolar-blue-freno-mini-racha-alcista-y-cerro-debajo-1360-n6051261', 'https://www.ambito.com/deportes/uno-uno-los-hinchas-que-tienen-prohibido-asistir-las-canchas-argentina-derecho-admision-n6051547', 'https://www.ambito.com/deportes/brown-adrogue-se-enfrentara-def-unidos-la-fecha-29-n6051427', 'https://www.ambito.com/economia/reforma-laboral-los-beneficios-que-tendran-las-empresas-que-regularicen-sus-empleados-n6051298', 'https://www.ambito.com/deportes/argentina-primera-nacional-racing-cba-vs-deportivo-maipu-fecha-29-n6051417', 'https://www.ambito.com/economia/dolar-inversiones-y-la-oportunidad-oro-el-pronostico-del-bank-of-america-la-argentina-n6051497', 'https://www.ambito.com/finanzas/nft-se-vendieron-millones-pero-ya-pasaron-2-anos-del-apogeo-cuanto-valen-n6051338', 'https://www.ambito.com/finanzas/el-club-los-emergentes-que-necesita-la-argentina-ascender-categoria-y-que-significado-tiene-los-inversores-n6051176', 'https://www.ambito.com/economia/la-volvio-caer-junio-se-contrajo-casi-4-anual-el-tibio-rebote-mayo-n6051237', 'https://www.ambito.com/deportes/espana-primera-division-leganes-vs-ud-las-palmas-fecha-2-n6051512', 'https://www.ambito.com/espectaculos/la-sustancia-pelicula-demi-moore-margaret-qualley-y-dennis-quaid-presenta-su-primer-trailer-n6051658', 'https://www.ambito.com/politica/francisco-paoltroni-no-estoy-acuerdo-el-presupuesto-fondos-reservados-la-side-votaria-contra-n6051424', 'https://www.ambito.com/economia/gobierno-desregula-el-transporte-larga-distancia-reduce-exigencias-segurosdepasajeros-n6051442', 'https://www.ambito.com/politica/la-diputada-lourdes-arrieta-denuncio-companeros-lla-la-oficina-violencia-genero-la-corte-suprema-n6051305', 'https://www.ambito.com/deportes/portugal-primera-division-farense-vs-sporting-lisboa-fecha-3-n6050530', 'https://www.ambito.com/politica/escandalo-la-libertad-avanza-el-bloque-no-esta-bien-admitio-diputada-n6051263', 'https://www.ambito.com/autos/gaston-mazzacane-fue-denunciado-abuso-sexual-su-expareja-me-amenazo-muerte-n6051443', 'https://www.ambito.com/deportes/argentina-primera-nacional-dep-moron-vs-almirante-brown-fecha-29-n6051419', 'https://www.ambito.com/politica/el-gobierno-defendio-los-fondos-reservados-la-side-n6051642', 'https://www.ambito.com/deportes/italia-serie-a-torino-vs-atalanta-fecha-2-n6051466', 'https://www.ambito.com/lifestyle/cuales-son-las-5-ciudades-alemania-mas-oportunidades-laborales-n6051247', 'https://www.ambito.com/opiniones/a-90-segundos-una-guerra-nuclear-el-reloj-del-apocalipsis-y-la-amenaza-latente-n6051234', 'https://www.ambito.com/finanzas/dolar-blue-hoy-cuanto-cotiza-este-jueves-22-agosto-n6051341', 'https://www.ambito.com/espectaculos/un-tribunal-aprobo-la-venta-del-catalogo-musical-michael-jackson-sony-us600-millones-n6051683', 'https://www.ambito.com/informacion-general/tragedia-africa-un-fotografo-argentino-que-recorria-el-continente-bicicleta-murio-atropellado-nigeria-n6051648', 'https://www.ambito.com/deportes/saint-etienne-recibira-le-havre-ac-la-fecha-2-n6051576', 'https://www.ambito.com/informacion-general/cuando-cobro-anses-jubilados-auh-desempleo-y-el-resto-las-prestaciones-del-jueves-22-agosto-n6051349', 'https://www.ambito.com/politica/tension-lla-diputados-el-audio-la-pelea-que-derivo-la-denuncia-violencia-genero-lourdes-arrieta-n6051684', 'https://www.ambito.com/deportes/conmebol-copa-sudamericana-cruzeiro-vs-boca-juniors-llave-6-n6050131', 'https://www.ambito.com/deportes/union-enfrenta-tigre-subirse-la-cima-n6051493', 'https://www.ambito.com/deportes/italia-serie-a-roma-vs-empoli-fecha-2-n6051463', 'https://www.ambito.com/deportes/argentina-primera-nacional-agropecuario-argentino-vs-talleres-re-fecha-29-n6051416', 'https://www.ambito.com/politica/tension-la-libertad-avanza-hubo-gritos-y-forcejeos-una-reunion-bloque-diputados-n6051216', 'https://www.ambito.com/economia/la-justicia-federal-restituyo-la-uatre-la-obra-social-trabajadores-rurales-n6051468', 'https://www.ambito.com/informacion-general/caso-loan-antonio-benitez-pidio-volver-declarar-y-podria-romper-el-pacto-silencio-n6051364', 'https://www.ambito.com/deportes/espana-primera-division-atletico-madrid-vs-girona-fecha-2-n6051505', 'https://www.ambito.com/finanzas/euro-hoy-y-euro-blue-hoy-cuanto-opera-este-jueves-22-agosto-n6051345', 'https://www.ambito.com/economia/el-salario-pretendido-trabajadores-supero-primera-vez-el-millon-pesos-n6051286', 'https://www.ambito.com/deportes/escandalo-venezuela-jugadores-erraron-sus-penales-proposito-como-queja-el-arbitraje-n6051665', 'https://www.ambito.com/deportes/argentina-copa-argentina-central-cordoba-se-vs-newells-partido-7-n6049913', 'https://www.ambito.com/politica/alimentos-capital-humano-no-avanza-la-entrega-y-apela-otra-vez-la-corte-suprema-n6051704', 'https://www.ambito.com/politica/el-senado-vota-la-actualizacion-jubilaciones-y-el-gobierno-se-exponeaotraderrota-n6051336', 'https://www.ambito.com/politica/semana-negra-javier-milei-el-congreso-fractura-la-libertad-avanza-crisis-mauricio-macri-y-choque-victoria-villarruel-n6051423', 'https://www.ambito.com/lifestyle/el-calido-destino-bonaerense-que-se-convirtio-tierra-inmigrantes-museos-comidas-regionales-y-paisajes-campestres-n6051170', 'https://www.ambito.com/informacion-general/el-curso-gratuito-tener-un-jardin-lindo-y-cuidado-n6050838', 'https://www.ambito.com/finanzas/mercados-rojo-caen-fuerte-las-acciones-y-los-bonos-medio-la-incertidumbre-politica-n6051606', 'https://www.ambito.com/ambito-nacional/mendoza-anuncio-la-reduccion-del-impuesto-los-sellos-el-patentamiento-vehiculos-n6051280', 'https://www.ambito.com/deportes/marcelo-gallardo-es-record-rompio-una-marca-historica-carlos-bianchi-la-copa-libertadores-n6051555', 'https://www.ambito.com/politica/manuel-adorni-el-debate-las-jubilaciones-el-senado-todo-lo-que-vaya-contra-las-cuentas-publicas-se-va-vetar-n6051659', 'https://www.ambito.com/deportes/por-la-fecha-3-famalicao-recibira-boavista-n6051589', 'https://www.ambito.com/politica/reforma-jubilatoria-las-claves-del-proyecto-que-podria-aprobar-el-senado-n6051516', 'https://www.ambito.com/deportes/espana-primera-division-real-madrid-vs-valladolid-fecha-2-n6051510', 'https://www.ambito.com/espectaculos/netflix-insiste-que-bebe-reno-es-un-drama-no-un-documental-pesar-la-etiqueta-historia-real-n6051635', 'https://www.ambito.com/mundo/descubrieron-un-planeta-liviano-como-el-algodon-azucar-y-50-mas-grande-que-jupiter-n6051187', 'https://www.ambito.com/deportes/portugal-primera-division-sc-braga-vs-moreirense-fecha-3-n6051594', 'https://www.ambito.com/deportes/por-la-llave-3-river-plate-recibira-talleres-n6050123', 'https://www.ambito.com/deportes/rb-leipzig-y-bochum-se-enfrentan-la-fecha-1-n6051400', 'https://www.ambito.com/finanzas/el-bce-decidio-mantener-las-tasas-interes-cambios-medio-un-entorno-inflacion-persistente-n6051524', 'https://www.ambito.com/politica/gobierno-asegura-que-busca-mejorar-manera-progresiva-los-sueldos-los-docentes-universitarios-n6050888', 'https://www.ambito.com/deportes/argentina-primera-b-liniers-vs-dep-armenio-fecha-11-n6051408', 'https://www.ambito.com/lifestyle/como-transformar-la-pasion-el-vino-un-negocio-rentable-n6051694', 'https://www.ambito.com/lifestyle/argentina-fue-sede-la-campari-bartender-competition-n6051714', 'https://www.ambito.com/informacion-general/quiniela-hoy-vivo-resultados-nacional-y-provincia-del-miercoles-21-agosto-n6050980', 'https://www.ambito.com/deportes/gabriela-sabatini-y-juan-martin-del-potro-jugaran-el-us-open-un-partido-exhibicion-n6051231', 'https://www.ambito.com/finanzas/se-acerca-recorte-tasas-la-fed-julio-varios-sus-miembros-consideraron-aplicar-un-ajuste-n6051212', 'https://www.ambito.com/politica/lilia-lemoine-exploto-contra-lourdes-arrieta-companera-bloque-es-una-desequilibrada-mental-n6051262', 'https://www.ambito.com/informacion-general/quiniela-hoy-vivo-resultados-nacional-y-provincia-del-jueves-22-agosto-n6051452', 'https://www.ambito.com/espectaculos/los-autenticos-decadentes-llegan-al-cine-monumental-decadentes-la-pelicula-n6051221', 'https://www.ambito.com/informacion-general/ituzaingo-un-boquete-intentar-robar-un-pago-facil-y-fue-detenido-n6051548', 'https://www.ambito.com/informacion-general/anmat-prohibio-el-uso-y-comercializacion-un-producto-odontologico-consumo-masivo-n6051458', 'https://www.ambito.com/informacion-general/por-falta-insumos-la-provincia-habilito-la-circulacion-la-licencia-conducir-digital-n6051307', 'https://www.ambito.com/deportes/argentina-primera-division-lanus-vs-godoy-cruz-fecha-12-n6051489', 'https://www.ambito.com/deportes/argentina-primera-nacional-gimnasia-mendoza-vs-estudiantes-rc-fecha-29-n6051420', 'https://www.ambito.com/politica/causa-violencia-genero-contra-alberto-fernandez-este-jueves-declaran-las-primeras-testigos-n6051327', 'https://www.ambito.com/espectaculos/sobre-arte-y-dinero-una-semana-cargada-novedades-n6051206', 'https://www.ambito.com/deportes/conmebol-copa-libertadores-the-strongest-vs-penarol-llave-7-n6049912', 'https://www.ambito.com/finanzas/dolar-hoy-cuanto-cerro-este-miercoles-21-agosto-n6051268', 'https://www.ambito.com/mundo/italia-hallaron-otros-cuatro-cuerpos-el-hundimiento-del-yate-lujo-n6051172', 'https://www.ambito.com/deportes/def-belgrano-se-enfrenta-la-visita-atletico-rafaela-la-fecha-29-n6051418', 'https://www.ambito.com/informacion-general/la-polemica-declaracion-uno-los-hermanos-loan-las-transferencias-millonarias-me-pasaron-unos-pesitos-n6051486', 'https://www.ambito.com/deportes/mallorca-visita-osasuna-la-fecha-2-n6051509', 'https://www.ambito.com/politica/la-selfie-menos-pensada-mayra-mendoza-cristian-ritondo-juan-schiaretti-y-nacho-torres-juntos-eeuu-n6051373', 'https://www.ambito.com/deportes/argentina-primera-division-river-plate-vs-newells-fecha-12-n6051492', 'https://www.ambito.com/mundo/llego-el-momento-kamala-harris-sellara-su-candidatura-presidencial-la-convencion-democrata-n6051676', 'https://www.ambito.com/deportes/argentina-primera-nacional-alvarado-vs-gimnasia-j-fecha-29-n6051413', 'https://www.ambito.com/deportes/la-lista-negra-marcelo-gallardo-los-jugadores-que-se-irian-river-uno-debutar-n6051203', 'https://www.ambito.com/finanzas/dolar-mep-cotiza-alza-se-acerca-los-1300-y-el-mercado-monitorea-las-reservas-n6051121', 'https://www.ambito.com/finanzas/arranca-la-reunion-jackson-hole-el-mercado-espera-pistas-el-recorte-tasas-interes-n6051469', 'https://www.ambito.com/politica/diputados-hay-quorum-y-la-oposicion-busca-rechazar-los-fondos-reservados-la-side-n6051142', 'https://www.ambito.com/ambito-nacional/en-medio-un-nuevo-paro-neuquen-advierte-los-docentes-no-hay-mas-negociacion-n6051218', 'https://www.ambito.com/economia/bancos-aplaudieron-la-eliminacion-la-retencion-cuenta-iva-y-ganancias-comercios-n6051331', 'https://www.ambito.com/finanzas/dolar-mep-y-ccl-avanzan-rozan-los-1300-y-la-brecha-marca-maximos-nueve-jornadas-n6051614', 'https://www.ambito.com/negocios/john-deere-ejecuta-despidos-argentina-mientras-no-avanzan-negociaciones-paritarias-n6051207', 'https://www.ambito.com/deportes/parma-recibe-milan-dando-inicio-la-fecha-2-n6051464', 'https://www.ambito.com/ambito-nacional/se-desploma-el-empleo-la-construccion-cuales-son-las-provincias-donde-mas-cayo-n6051348', 'https://www.ambito.com/deportes/portugal-primera-division-avs-futebol-vs-vitoria-guimaraes-fecha-3-n6051593', 'https://www.ambito.com/politica/interna-el-gobierno-victoria-villarruel-y-francisco-paoltroni-atienden-su-juego-n6051205', 'https://www.ambito.com/deportes/valencia-visita-celta-el-primer-duelo-la-fecha-2-n6051506', 'https://www.ambito.com/economia/el-banco-central-explico-que-tenes-que-hacer-los-dolares-rotos-o-deteriorados-n6051214', 'https://www.ambito.com/espectaculos/la-voz-ausente-la-serie-suspenso-psicologico-benjamin-vicuna-y-gimena-accardi-llego-disney-n6051202', 'https://www.ambito.com/politica/coparticipacion-luis-caputo-pego-faltazo-la-audiencia-la-ciudad-no-hubo-acuerdo-y-sigue-el-conflicto-n6051669', 'https://www.ambito.com/espectaculos/libre-biopic-la-creadora-un-famoso-champan-n6051661', 'https://www.ambito.com/informacion-general/una-nueva-y-temida-evaluacion-sera-determinante-sacar-la-licencia-conducir-primera-vez-n6051615', 'https://www.ambito.com/deportes/francia-primera-division-nantes-vs-auxerre-fecha-2-n6051573', 'https://www.ambito.com/deportes/argentina-primera-nacional-patronato-vs-ferro-fecha-29-n6051415', 'https://www.ambito.com/deportes/como-esta-el-historial-boca-y-cruzeiro-cara-al-duelo-esta-noche-n6051581', 'https://www.ambito.com/deportes/friburgo-y-stuttgart-se-disputan-el-primer-juego-del-torneo-n6051398', 'https://www.ambito.com/espectaculos/tim-curry-vuelve-al-cine-la-pelicula-terror-stream-n6051180', 'https://www.ambito.com/economia/nuevo-dolar-otro-supermercado-recibira-los-billetes-cara-chica-un-precio-encima-del-blue-n6051012', 'https://www.ambito.com/deportes/portugal-primera-division-estoril-vs-gil-vicente-fecha-3-n6051587', 'https://www.ambito.com/deportes/se-enfrentan-acassuso-y-excursionistas-la-fecha-11-n6051406', 'https://www.ambito.com/finanzas/deuda-los-bancos-ya-tienen-el-37-su-activo-expuesto-titulos-del-tesoro-n6051288', 'https://www.ambito.com/politica/el-padre-la-diputada-bonacci-hablo-la-denuncia-lourdes-arrieta-hay-grados-soberbia-el-gobierno-n6051607', 'https://www.ambito.com/espectaculos/esteban-lamothe-apunto-contra-javier-milei-una-fake-news-como-te-cagaria-pinas-n6051475', 'https://www.ambito.com/ambito-nacional/misiones-solicitaron-la-detencion-del-diputado-provincial-kiczka-acusado-pedofilia-n6051334', 'https://www.ambito.com/espectaculos/dia-del-lector-soltaran-300-mil-poemas-todo-el-pais-homenaje-jorge-luis-borges-n6051708', 'https://www.ambito.com/finanzas/wall-street-retoma-sendero-alcista-la-mano-del-sector-minorista-el-dato-clave-empleo-n6051146', 'https://www.ambito.com/deportes/italia-serie-a-napoli-vs-bologna-fecha-2-n6051467', 'https://www.ambito.com/deportes/palmeiras-se-enfrenta-la-visita-botafogo-la-llave-6-n6050516', 'https://www.ambito.com/deportes/colegiales-recibira-laferrere-la-fecha-11-n6051407', 'https://www.ambito.com/informacion-general/chau-sube-que-lineas-colectivos-dejaron-aplicar-el-descuento-del-boleto-integrado-n6050861', 'https://www.ambito.com/informacion-general/cientificos-revelaron-el-mejor-horario-realizar-actividad-fisica-manana-o-noche-n6051583', 'https://www.ambito.com/deportes/casa-pia-se-enfrentara-santa-clara-la-fecha-3-n6051590']\""
            ],
            "application/vnd.google.colaboratory.intrinsic+json": {
              "type": "string"
            }
          },
          "metadata": {}
        }
      ]
    },
    {
      "cell_type": "markdown",
      "metadata": {
        "id": "ODF4BItHGJB0"
      },
      "source": [
        "### 8. Consultar la siguiente API para la lista de valores y guardar los datos en un diccionario\n",
        "\n",
        "*1 punto*\n",
        "\n",
        "La siguiente URL devuelve los personajes sin genero (genderless) segun el `ESTADO` (status) en especifico en el que se encuentren:\n",
        "\n",
        "https://rickandmortyapi.com/api/character?status=ESTADO&gender=genderless\n",
        "\n",
        "Los estados a enviar son los siguientes:\n",
        "\n",
        "`estados = ['alive', 'dead', 'unknown', 'failed']`\n",
        "\n",
        "Con la siguiente lista de estados, chequear cuáles son pedidos http válidos viendo el **status_code** en la respuesta, y generar un **diccionario** con la cantidad de personajes genderless que hay en cada estado (status).\n",
        "\n",
        "ej:\n",
        "\n",
        "{'alive': 7, ... y asi con los otros estados}\n",
        "\n",
        "Guardar el diccionario solicitado en una variable `respuesta_8`"
      ]
    },
    {
      "cell_type": "code",
      "metadata": {
        "id": "TatuApC5G5V_"
      },
      "source": [
        "import requests\n",
        "\n",
        "estados = ['alive', 'dead', 'unknown', 'failed']\n",
        "respuesta_8 = {}\n",
        "\n",
        "for estado in estados:\n",
        "  url = f'https://rickandmortyapi.com/api/character?status={estado}&gender=genderless'\n",
        "  response = requests.get(url)\n",
        "  if response.status_code == 200:\n",
        "    data = response.json()\n",
        "    respuesta_8[estado] = data['info']['count']\n",
        ""
      ],
      "execution_count": 17,
      "outputs": []
    },
    {
      "cell_type": "code",
      "source": [
        "#@title Correr esta celda, copiar la respuesta y pegar el texto en el campus\n",
        "try:\n",
        "  display(str(dict(respuesta_8)))\n",
        "except (NameError):\n",
        "  print(\"No se guardo una respuesta en la varible respuesta_8, copiar la siguinte respuesta:\")\n",
        "  display(str({}))\n",
        "except:\n",
        "  display(str({}))\n"
      ],
      "metadata": {
        "id": "XM-SJnMdsfzm",
        "outputId": "d3ad8a37-a48d-459e-f947-7ceb98dee251",
        "colab": {
          "base_uri": "https://localhost:8080/",
          "height": 35
        }
      },
      "execution_count": 18,
      "outputs": [
        {
          "output_type": "display_data",
          "data": {
            "text/plain": [
              "\"{'alive': 10, 'dead': 5, 'unknown': 4}\""
            ],
            "application/vnd.google.colaboratory.intrinsic+json": {
              "type": "string"
            }
          },
          "metadata": {}
        }
      ]
    },
    {
      "cell_type": "markdown",
      "source": [
        "### 9. Crear 3 carpetas llamadas 'csvs', 'mds' y 'jsons' (fuera de 'sample_data') y llenarlas con los archivos correspondientes a cada una de esas 3 extensiones que se encuentran en la carpeta 'sample_data' (viene por defecto en Google Colab)\n",
        "\n",
        " *1 punto*\n",
        "\n",
        "*Tip:* Pueden usar los métodos `makedirs` y `rename` de la libreria `os`"
      ],
      "metadata": {
        "id": "cf-HHSUV9xZr"
      }
    },
    {
      "cell_type": "code",
      "source": [
        "import os\n",
        "import shutil\n",
        "\n",
        "os.makedirs('csvs', exist_ok=True)\n",
        "os.makedirs('mds', exist_ok=True)\n",
        "os.makedirs('jsons', exist_ok=True)\n",
        "os.makedirs('other', exist_ok=True)\n",
        "\n",
        "for file in os.listdir('/content/sample_data'):\n",
        "  if file.endswith('.csv'):\n",
        "    shutil.move(os.path.join('/content/sample_data', file), '/content/csvs')\n",
        "  elif file.endswith('.md'):\n",
        "      shutil.move(os.path.join('/content/sample_data', file), '/content/mds')\n",
        "  elif file.endswith('.json'):\n",
        "      shutil.move(os.path.join('/content/sample_data', file), '/content/jsons')\n",
        "  else:\n",
        "    shutil.move(os.path.join('/content/sample_data', file), '/content/other')\n",
        "\n"
      ],
      "metadata": {
        "id": "ID9WW5VVsIAh"
      },
      "execution_count": 19,
      "outputs": []
    },
    {
      "cell_type": "code",
      "source": [
        "#@title Correr esta celda, copiar la respuesta y pegar el texto en el campus\n",
        "try:\n",
        "  respuesta_9 = {\n",
        "    dir: os.listdir(dir)\n",
        "    for dir in os.listdir('/content/')\n",
        "    if dir in ['csvs', 'jsons', 'mds']\n",
        "  }\n",
        "  display(str(respuesta_9))\n",
        "except (NameError):\n",
        "  print(\"No se guardo una respuesta en la varible respuesta_9, copiar la siguinte respuesta:\")\n",
        "  display(str({}))\n",
        "except:\n",
        "  display(str({}))\n",
        "\n"
      ],
      "metadata": {
        "id": "e3NWhZIbqZ70",
        "outputId": "00aaa63d-c73d-4cd1-ce0d-dc13c5870a64",
        "colab": {
          "base_uri": "https://localhost:8080/",
          "height": 35
        }
      },
      "execution_count": 20,
      "outputs": [
        {
          "output_type": "display_data",
          "data": {
            "text/plain": [
              "\"{'mds': ['README.md'], 'csvs': ['california_housing_test.csv', 'mnist_train_small.csv', 'mnist_test.csv', 'california_housing_train.csv'], 'jsons': ['anscombe.json']}\""
            ],
            "application/vnd.google.colaboratory.intrinsic+json": {
              "type": "string"
            }
          },
          "metadata": {}
        }
      ]
    },
    {
      "cell_type": "markdown",
      "metadata": {
        "id": "erUPaHKuJwy9"
      },
      "source": [
        "### 10. Buscar la API oculta en https://shop.tesla.com/?tesref=true\n",
        "\n",
        "*1 punto*\n",
        "\n",
        "Generar una lista con las URLs de las imagenes presentes en la seccion de best sellers.\n",
        "\n",
        "**Nota: recuerda usar los headers de user-agent y `'accept-language': 'es,es-ES;q=0.9,en;q=0.8'`**\n",
        "\n",
        "*Tip:* Sabras que los links son correctos porque al darle click te abrira la imagen en el navegador.\n",
        "\n",
        "Guardar la lista de links en una variable `respuesta_10`"
      ]
    },
    {
      "cell_type": "code",
      "source": [
        "import requests\n",
        "from bs4 import BeautifulSoup\n",
        "\n",
        "headers = {\n",
        "    'User-Agent': 'Mozilla/5.0 (Windows NT 10.0; Win64; x64) AppleWebKit/537.36 (KHTML, like Gecko) Chrome/58.0.3029.11 Safari/537.3',\n",
        "    'Accept-Language': 'es,es-ES;q=0.9,en;q=0.8'\n",
        "}\n",
        "\n",
        "url = 'https://shop.tesla.com/best-sellers'\n",
        "response = requests.get(url, headers=headers)\n",
        "soup = BeautifulSoup(response.content, 'html.parser')\n",
        "best_sellers_section = soup.find('div', class_='best-sellers-section')\n",
        "links = [img['src'] for img in best_sellers_section]\n",
        "respuesta_10 = set(links)"
      ],
      "metadata": {
        "id": "IOZMf5puvmGo"
      },
      "execution_count": null,
      "outputs": []
    },
    {
      "cell_type": "code",
      "source": [
        "#@title Correr esta celda, copiar la respuesta y pegar el texto en el campus\n",
        "try:\n",
        "  display(str(list(respuesta_10)))\n",
        "except (NameError):\n",
        "  print(\"No se guardo una respuesta en la varible respuesta_10, copiar la siguinte respuesta:\")\n",
        "  display(str([]))\n",
        "except:\n",
        "  display(str([]))\n"
      ],
      "metadata": {
        "id": "uhHqUBH2sYmB"
      },
      "execution_count": null,
      "outputs": []
    },
    {
      "cell_type": "markdown",
      "metadata": {
        "id": "4bkxV063ZZXl"
      },
      "source": [
        "---\n",
        "\n",
        "<center>\n",
        "Te enviaremos tu resultado próximamente. Cualquier consulta estamos a disposición por el canal de <a href='https://discord.gg/7G86d7p5'>Discord</a> y por correo.  \n",
        "\n",
        "<h3> <b>¡Muchas gracias! </b> </h3>\n",
        "<br>\n",
        "<table>\n",
        "<td>\n",
        "<center><img src='https://storage.googleapis.com/humai-datasets/static/logos/estudiante.png' width='150px' margin='100px'></img></center>\n",
        "<center><img src='https://storage.googleapis.com/humai-datasets/static/logos/humai(1).png' width='150px' margin='100px'></img></center>\n",
        "\n",
        "\n",
        "<a href=\"https://discord.gg/wYCA2chQvb\"><img\n",
        "        src=\"https://cdn-icons-png.flaticon.com/512/5968/5968898.png\" width=\"30px\" alt=\"discord\"></a>\n",
        "<a href=\"https://www.instagram.com/institutohumai\">\n",
        "<img src=\"https://storage.googleapis.com/humai-datasets/static/icons/ig.png\" width=\"30px\" alt=\"IG\"></a><a href=\"https://github.com/institutohumai\"><img src=\"https://storage.googleapis.com/humai-datasets/static/icons/github_b.png\" width=\"30px\" alt=\"Git\"></a><a href=\"https://www.linkedin.com/company/instituto-humai/\"><img src=\"https://storage.googleapis.com/humai-datasets/static/icons/linkedin.png\" width=\"30px\" alt=\"LinkedIn\"></a><a href=\"https://www.facebook.com/iHumai\"><img src=\"https://storage.googleapis.com/humai-datasets/static/icons/facebook.png\" width=\"30px\" alt=\"FB\"></a></center>"
      ]
    }
  ]
}