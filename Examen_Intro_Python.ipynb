{
  "nbformat": 4,
  "nbformat_minor": 0,
  "metadata": {
    "colab": {
      "provenance": [],
      "include_colab_link": true
    },
    "kernelspec": {
      "name": "python3",
      "display_name": "Python 3"
    },
    "language_info": {
      "name": "python"
    }
  },
  "cells": [
    {
      "cell_type": "markdown",
      "metadata": {
        "id": "view-in-github",
        "colab_type": "text"
      },
      "source": [
        "<a href=\"https://colab.research.google.com/github/Romina-Castillo46110/Examenes_Humai/blob/main/Examen_Intro_Python.ipynb\" target=\"_parent\"><img src=\"https://colab.research.google.com/assets/colab-badge.svg\" alt=\"Open In Colab\"/></a>"
      ]
    },
    {
      "cell_type": "markdown",
      "metadata": {
        "id": "9JgqXX6wjusC"
      },
      "source": [
        "<center><img src='https://storage.googleapis.com/humai-datasets/static/logos/estudiante.png' width='150px' margin='100px'></img></center>\n",
        "<center><img src='https://storage.googleapis.com/humai-datasets/static/logos/humai(1).png' width='150px' margin='100px'></img></center>\n",
        "\n",
        "<center><h1>Examen - Introducción a la Programación con Python</h1></center>\n"
      ]
    },
    {
      "cell_type": "markdown",
      "source": [
        "## Instrucciones:"
      ],
      "metadata": {
        "id": "BlY_LcIbiVri"
      }
    },
    {
      "cell_type": "markdown",
      "metadata": {
        "id": "qma_S33zkfHR"
      },
      "source": [
        "#### Al comenzar:\n",
        "1. **Guardar una copia** de la Colab en tu Google Drive al empezar para poder guardar las respuestas.  \n",
        "```Archivo (File) -> Guardar una copia en drive (Save a copy on Drive) ```\n",
        "2. **Completar** más abajo con tu nombre completo, apellido y mail\n",
        "\n",
        "#### Al finalizar:\n",
        "3. Configurar los permisos del colab utilizado para resolver el examen, para que cualquier persona tenga acceso como \"Lector\". Copiar y pegar el link en la sección correspondiente del cuestionario que figura en el Campus Virtual.\n",
        "4. Revisar todas tus respuestas.\n"
      ]
    },
    {
      "cell_type": "markdown",
      "source": [
        "## Código de Conducta\n",
        "Durante el examen pueden buscar en Google, ver el material de clases pasadas o apuntes propios, pero **no se permite consultar a otras personas**.\n",
        "\n",
        "Aceptar\tser\testudiante\tde Humai conlleva\tla\tobligación de\tuna\tconducta honesta,\tética,\tde\tintegridad y honestidad académica.\n",
        "\n",
        "Esta instancia de evaluación ofrecida por Humai exige un estricto apego a los valores de honestidad intelectual propias a la labor del estudiante. Fallar ante los mismos consistuye no solo un perjucio a la moral y la relación educativa en buena fe, si no que socava el propio esfuerzo de aprendizaje.\n",
        "\n",
        "El plagio y uso abusivo de material intelectual ajeno es considerado una deshonestidad académica. En caso de sospechar una falta al código de Ética, se deliberará una sanción correspondiente que puede incluir la anulación del examen, la suspensión o expulsión de la cursada.\n",
        "\n",
        "En caso de estar de acuerdo, aceptar la siguiente\n",
        "declaración:\n",
        "\n",
        "```Declaro mi compromiso en desempeñarme con honestidad académica e intelectual, y mantener los más altos estándares éticos aplicando los conocimientos contemplados en Humai```"
      ],
      "metadata": {
        "id": "003S451qNb-s"
      }
    },
    {
      "cell_type": "code",
      "source": [
        "Acepto=False #@param{type:\"boolean\"}"
      ],
      "metadata": {
        "cellView": "form",
        "id": "YBE_GF0hM9ro"
      },
      "execution_count": null,
      "outputs": []
    },
    {
      "cell_type": "markdown",
      "source": [
        "No pierdan de vista el total de los ejercicios para administrar el tiempo, les sugerimos que completen primero lo que tengan más claro. Dicho eso.\n",
        "\n",
        "\n",
        "🏁 ¡Muchos éxitos 🤓! 🏁"
      ],
      "metadata": {
        "id": "0fEMC8EkSqrI"
      }
    },
    {
      "cell_type": "code",
      "metadata": {
        "id": "MkOzELdMkobR",
        "cellView": "form"
      },
      "source": [
        "#@markdown Datos del estudiante<br><br>\n",
        "#@markdown Ejecutar celda y dar permisos a Google Colab<br><br>\n",
        "\n",
        "# Validar el codigo de conducta\n",
        "if 'Acepto' not in globals() or Acepto == False:\n",
        "  raise ValueError('Debes aceptar el codigo de conducta y ejecutar ambas celdas')\n",
        "\n",
        "from datetime import datetime, timedelta\n",
        "_hora = datetime.utcnow()\n",
        "# en arg estamos en utc-3\n",
        "_desfase = timedelta(hours=3)\n",
        "# decimos en qué formato queremos la fecha\n",
        "# ver más en https://realpython.com/python-time-module/\n",
        "_formato = \"%m-%d-%Y_%H:%M:%S\"\n",
        "_fecha_inicio = (_hora - _desfase).strftime(_formato)\n",
        "print((_hora - _desfase).strftime(\"%m/%d/%Y, %H:%M:%S\"))\n",
        "\n",
        "_nombre_completo = '' #@param {type:\"string\"}\n",
        "_mail = '' #@param {type:\"string\"}\n",
        "\n",
        "if not _nombre_completo or not _mail:\n",
        "  raise ValueError('Es necesario completar nombre completo y mail')\n",
        "\n",
        "for i in range(20):\n",
        "  v = f'respuesta_{i}'\n",
        "  if v not in globals():\n",
        "    globals()[v] = ''"
      ],
      "execution_count": null,
      "outputs": []
    },
    {
      "cell_type": "markdown",
      "source": [
        "# Preguntas:"
      ],
      "metadata": {
        "id": "koDzRaFiqtKM"
      }
    },
    {
      "cell_type": "markdown",
      "source": [
        "### ➡ 1. La expresión `[{1: (0, 1), 2: (1, 1)}, {1: (0, 0), 2: (1, 1)}]` es:\n",
        "- A) Una lista que contiene strings.\n",
        "- B) Una lista que contiene dos diccionarios.\n",
        "- C) Un diccionario que contiene cuatro tuplas."
      ],
      "metadata": {
        "id": "2MDOaMFazLFx"
      }
    },
    {
      "cell_type": "code",
      "source": [
        "respuesta_1 = 'Una lista que contiene dos diccionarios.' #@param ['-', 'Una lista que contiene strings.', 'Una lista que contiene dos diccionarios.', 'Un diccionario que contiene cuatro tuplas.']"
      ],
      "metadata": {
        "id": "5fAwb1U4ABEd"
      },
      "execution_count": null,
      "outputs": []
    },
    {
      "cell_type": "markdown",
      "source": [
        "### ➡ 2.\n",
        "Una maderera ofrece tres tipos de muebles: 'Silla', 'Banqueta' y 'Mesa ratona', y sale en tres colores: 'color negro', 'color blanco' o 'color madera'.\n",
        "\n",
        "Notas: Usando **lista por comprensión**, creá una lista nueva que refleje todas las combinaciones (en tuplas) posibles de tipo de mueble y color.\n",
        "\n",
        "Guardar la respuesta en la variable `respuestas_2`. Ejecutar la siguiente celda para copia la lista obtenida y pegarla en el cuestionario del Campus Virtual."
      ],
      "metadata": {
        "id": "Y7K7NSYXzIiw"
      }
    },
    {
      "cell_type": "code",
      "source": [
        "# Completar\n",
        "tipos_de_muebles = ['Silla', 'Banqueta', 'Mesa ratona']\n",
        "colores = ['color negro', 'color blanco', 'color madera']\n",
        "\n",
        "combinaciones = [(mueble, color) for mueble in tipos_de_muebles for color in colores]\n",
        "\n",
        "print(combinaciones)"
      ],
      "metadata": {
        "id": "L6EmWVkLGWXZ",
        "outputId": "ce4e6515-0c5f-471b-c996-7f2b56b24adc",
        "colab": {
          "base_uri": "https://localhost:8080/"
        }
      },
      "execution_count": 2,
      "outputs": [
        {
          "output_type": "stream",
          "name": "stdout",
          "text": [
            "[('Silla', 'color negro'), ('Silla', 'color blanco'), ('Silla', 'color madera'), ('Banqueta', 'color negro'), ('Banqueta', 'color blanco'), ('Banqueta', 'color madera'), ('Mesa ratona', 'color negro'), ('Mesa ratona', 'color blanco'), ('Mesa ratona', 'color madera')]\n"
          ]
        }
      ]
    },
    {
      "cell_type": "code",
      "source": [
        "#@title Correr esta celda, copiar la respuesta y pegar el texto en el campus\n",
        "try:\n",
        "  display(str(list(respuesta_2)))\n",
        "except (NameError):\n",
        "  print(\"No se guardo una respuesta en la varible respuesta_2, copiar la siguinte respuesta:\")\n",
        "  display(str([]))\n",
        "except:\n",
        "  display(str([]))\n"
      ],
      "metadata": {
        "id": "m1wgWTF3M212",
        "colab": {
          "base_uri": "https://localhost:8080/",
          "height": 53
        },
        "outputId": "71b7d65c-9326-4e0d-d131-94e2f15f0c57"
      },
      "execution_count": 3,
      "outputs": [
        {
          "output_type": "stream",
          "name": "stdout",
          "text": [
            "No se guardo una respuesta en la varible respuesta_2, copiar la siguinte respuesta:\n"
          ]
        },
        {
          "output_type": "display_data",
          "data": {
            "text/plain": [
              "'[]'"
            ],
            "application/vnd.google.colaboratory.intrinsic+json": {
              "type": "string"
            }
          },
          "metadata": {}
        }
      ]
    },
    {
      "cell_type": "markdown",
      "source": [
        "### ➡ 3.\n",
        "Utilizando la misma información del ejercicio anterior, armar una lista más, que sólo devuelva las combinaciones (en tuplas) que se ofrecen en blanco.\n",
        "\n",
        "Guardar la respuesta en la variable `respuestas_3`. Ejecutar la siguiente celda para copia la lista obtenida y pegarla en el cuestionario del Campus Virtual."
      ],
      "metadata": {
        "id": "AeeZmXQ6oEaS"
      }
    },
    {
      "cell_type": "code",
      "source": [
        "# Completar\n",
        "combinaciones_blancas = [(mueble, color) for mueble, color in combinaciones if color == 'color blanco']\n",
        "\n",
        "print(combinaciones_blancas)"
      ],
      "metadata": {
        "id": "9zHf6N8hDKUU",
        "outputId": "15b2313c-013f-4825-bebc-fee1d51e623f",
        "colab": {
          "base_uri": "https://localhost:8080/"
        }
      },
      "execution_count": 4,
      "outputs": [
        {
          "output_type": "stream",
          "name": "stdout",
          "text": [
            "[('Silla', 'color blanco'), ('Banqueta', 'color blanco'), ('Mesa ratona', 'color blanco')]\n"
          ]
        }
      ]
    },
    {
      "cell_type": "code",
      "source": [
        "#@title Correr esta celda, copiar la respuesta y pegar el texto en el campus\n",
        "try:\n",
        "  display(str(list(respuesta_3)))\n",
        "except (NameError):\n",
        "  print(\"No se guardo una respuesta en la varible respuesta_3, copiar la siguinte respuesta:\")\n",
        "  display(str([]))\n",
        "except:\n",
        "  display(str([]))\n"
      ],
      "metadata": {
        "cellView": "form",
        "id": "qDtegPSOM48P"
      },
      "execution_count": null,
      "outputs": []
    },
    {
      "cell_type": "markdown",
      "source": [
        "**bold text**### ➡ 4. Dada la siguiente celda de código, marcar las opciones correctas:\n",
        "```python\n",
        "class Agua:\n",
        "    def __init__(self, temperatura):\n",
        "        self.temperatura = temperatura\n",
        "    \n",
        "    def nadar(self):\n",
        "        if self.temperatura < 0:\n",
        "            print(\"El agua está demasiado fría, no se puede nadar.\")\n",
        "        else:\n",
        "            print(\"Se puede nadar tranquilamente.\")\n",
        "\n",
        "class Mar(Agua):\n",
        "    def __init__(self, nombre, *args):\n",
        "        self.nombre = nombre\n",
        "        super().__init__(*args)\n",
        "\n",
        "    def __str__(self):\n",
        "        return f'Este es el mar {self.nombre}, cuya temperatura es de\\\n",
        "        {self.temperatura} grados'\n",
        "\n",
        "pileta = Agua(20)\n",
        "```"
      ],
      "metadata": {
        "id": "4MXwxy1xpwlk"
      }
    },
    {
      "cell_type": "code",
      "source": [
        "#@markdown Opciones { display-mode: \"form\" }\n",
        "\n",
        "#@markdown 1. La clase Agua hereda un atributo de la clase Mar\n",
        "item_4_1 = False # @param {type:\"boolean\"}\n",
        "\n",
        "#@markdown 2. La clase Mar tiene solo un constructor\n",
        "item_4_2 = True # @param {type:\"boolean\"}\n",
        "\n",
        "#@markdown 3. Si instanciáramos mediterraneo como una instancia de Mar, podríamos aplicarle el método nadar\n",
        "item_4_3 = True # @param {type:\"boolean\"}\n",
        "\n",
        "#@markdown 4. Si instanciáramos mar_rojo como una instancia de Mar, pileta podria tener atributo el nombre\n",
        "item_4_4 = False # @param {type:\"boolean\"}\n",
        "\n",
        "respuesta_4 = [item_4_1, item_4_2, item_4_3, item_4_4]"
      ],
      "metadata": {
        "id": "IpkcBgAJ7z5Z"
      },
      "execution_count": null,
      "outputs": []
    },
    {
      "cell_type": "markdown",
      "source": [
        "### ➡ 5. Dada la variable mochila:\n",
        "Obtener el total de la **cantidad de caramelos** en la mochila con una sola línea de código.\n",
        "\n",
        "Guardar la respuesta en la variable `respuestas_5` (sólo el número). Ejecutar la siguiente celda para copia la valor obtenido y pegarlo en el cuestionario del Campus Virtual."
      ],
      "metadata": {
        "id": "EMOEqM7TpM9B"
      }
    },
    {
      "cell_type": "code",
      "source": [
        "mochila = [\n",
        "    {\n",
        "        \"objeto\": \"caramelo\",\n",
        "        \"cantidad\": \"10\",\n",
        "        \"tipo\": \"dulce de leche\",\n",
        "    },\n",
        "    {\n",
        "        \"objeto\": \"llaves\",\n",
        "        \"cantidad\": \"3\",\n",
        "        \"tipo\": \"blockchain\",\n",
        "    },\n",
        "    {\n",
        "        \"objeto\": \"caramelo\",\n",
        "        \"cantidad\": \"3\",\n",
        "        \"tipo\": \"menta\",\n",
        "    },\n",
        "    {\n",
        "        \"objeto\": \"billetera\",\n",
        "        \"cantidad\": \"1\",\n",
        "        \"tipo\": \"cuero\",\n",
        "    },\n",
        "    {\n",
        "        \"objeto\": \"moneda\",\n",
        "        \"cantidad\": \"5\",\n",
        "        \"tipo\": \"50\",\n",
        "    },\n",
        "    {\n",
        "        \"objeto\": \"caramelo\",\n",
        "        \"cantidad\": \"12\",\n",
        "        \"tipo\": \"nutella\",\n",
        "    },\n",
        "]"
      ],
      "metadata": {
        "id": "BJEjwYFgC0OI"
      },
      "execution_count": 6,
      "outputs": []
    },
    {
      "cell_type": "code",
      "source": [
        "#completar\n",
        "respuesta_5 = sum([int(item['cantidad']) for item in mochila if item['objeto'] == 'caramelo'])"
      ],
      "metadata": {
        "id": "eXNy_zIYC3Eg"
      },
      "execution_count": 7,
      "outputs": []
    },
    {
      "cell_type": "code",
      "source": [
        "#@title Correr esta celda, copiar la respuesta y pegar el texto en el campus\n",
        "try:\n",
        "  display(str(int(respuesta_5)))\n",
        "except (NameError):\n",
        "  print(\"No se guardo una respuesta en la varible respuesta_5, copiar la siguinte respuesta:\")\n",
        "  display(str(0))\n",
        "except:\n",
        "  display(str(0))\n"
      ],
      "metadata": {
        "cellView": "form",
        "id": "laHOIJ5iNOpt"
      },
      "execution_count": null,
      "outputs": []
    },
    {
      "cell_type": "markdown",
      "source": [
        "## ➡ 6. Ordenar alfabéticamente\n",
        "Implementar la función `ordenar_alfabeticamente`, a partir de un string de palabras separadas por guiones medios debe generar un string ordenado y separado por guiones medios.\n",
        "\n",
        "Ejemplo:\n",
        "- Input: 'negro-blanco-azul-rojo'\n",
        "- Output: 'azul-blanco-negro-rojo'\n",
        "\n",
        "Ejecutar la siguiente celda para copia el valor obtenido y pegarlo en el cuestionario del Campus Virtual."
      ],
      "metadata": {
        "id": "6hxYT8DPpKqQ"
      }
    },
    {
      "cell_type": "code",
      "source": [
        "def ordenar_alfabeticamente(palabras_entre_guiones):\n",
        "   # Completar\n",
        "    lista_palabras = palabras_entre_guiones.split('-')\n",
        "\n",
        "    lista_palabras.sort()\n",
        "\n",
        "\n",
        "    palabras_ordenadas = '-'.join(lista_palabras)\n",
        "\n",
        "    return palabras_ordenadas\n",
        "\n",
        "# Ejemplo de uso\n",
        "entrada = 'negro-blanco-azul-rojo'\n",
        "salida = ordenar_alfabeticamente(entrada)\n",
        "print(salida)\n",
        "\n"
      ],
      "metadata": {
        "id": "XrnqXpjRDZX-",
        "outputId": "a0769241-e0c1-4e0f-a624-410b439950f6",
        "colab": {
          "base_uri": "https://localhost:8080/"
        }
      },
      "execution_count": 8,
      "outputs": [
        {
          "output_type": "stream",
          "name": "stdout",
          "text": [
            "azul-blanco-negro-rojo\n"
          ]
        }
      ]
    },
    {
      "cell_type": "code",
      "source": [
        "#@title Correr esta celda, copiar la respuesta y pegar el texto en el campus\n",
        "try:\n",
        "  display(str(ordenar_alfabeticamente('negro-blanco-azul-rojo')))\n",
        "except (NameError):\n",
        "  print(\"No se guardo una respuesta en la varible respuesta_6, copiar la siguinte respuesta:\")\n",
        "  display(str('negro-blanco-azul-rojo'))\n",
        "except:\n",
        "  display(str('negro-blanco-azul-rojo'))\n"
      ],
      "metadata": {
        "cellView": "form",
        "id": "DIiuJI1aNgPL"
      },
      "execution_count": null,
      "outputs": []
    },
    {
      "cell_type": "markdown",
      "source": [
        "## ➡ 7.\n",
        "Dada la lista `datos`, escribir un bucle que sume sus números, deteniéndose el resultado inmediatamente luego de que éste supere 100:\n",
        "\n",
        "\n",
        "Guardar la respuesta en la variable `respuestas_7` (sólo el número). Ejecutar la siguiente celda para copia la valor obtenido y pegarlo en el cuestionario del Campus Virtual.\n"
      ],
      "metadata": {
        "id": "l1SMiqbTeKsL"
      }
    },
    {
      "cell_type": "code",
      "source": [
        "datos = [2, 28, 5, \"foco\", 6.2, False, 30.4, 14, 3, 2, 42, 33, \"guante\", 22]\n",
        "suma_total = 0\n",
        "\n",
        "for dato in datos:\n",
        "    # Verificar si el dato es un número (int o float)\n",
        "    if isinstance(dato, (int, float)):\n",
        "        # Sumar el número al total actual\n",
        "        suma_total += dato\n",
        "\n",
        "        # Verificar si la suma total supera 100\n",
        "        if suma_total > 100:\n",
        "            break\n",
        "\n",
        "print(\"La suma total es:\", suma_total)\n",
        "\n"
      ],
      "metadata": {
        "id": "2Q24f7_eDlUN",
        "outputId": "7c5424f7-de79-4d39-88f9-b0d80da5b029",
        "colab": {
          "base_uri": "https://localhost:8080/"
        }
      },
      "execution_count": 10,
      "outputs": [
        {
          "output_type": "stream",
          "name": "stdout",
          "text": [
            "La suma total es: 132.6\n"
          ]
        }
      ]
    },
    {
      "cell_type": "code",
      "source": [
        "#@title Correr esta celda, copiar la respuesta y pegar el texto en el campus\n",
        "try:\n",
        "  display(str(float(respuesta_7)))\n",
        "except (NameError):\n",
        "  print(\"No se guardo una respuesta en la varible respuesta_7, copiar la siguinte respuesta:\")\n",
        "  display(str(0.0))\n",
        "except:\n",
        "  display(str(0.0))"
      ],
      "metadata": {
        "cellView": "form",
        "id": "fixlqt1kOCIv"
      },
      "execution_count": null,
      "outputs": []
    },
    {
      "cell_type": "markdown",
      "source": [
        "## ➡ 8.\n",
        "Definir una función `apellido_incluido()` que reciba un apellido y una lista de nombres completos, e indique si el primero se encuentra en la lista devolviendo el nombre completo en caso de estar presente, de caso contrario, devolver un string que diga \"No se encuentra el apellido\".\n",
        "\n",
        "La función debe permitir buscar un nombre a pesar de\n",
        "- a. mayúsculas incompletas,\n",
        "- b. tener espacios de más antes o después\n",
        "\n",
        "***Nota: asumir siempre que cada elemento de la lista tendrá un nombre y un apellido***\n",
        "\n",
        "\n",
        "Ejecutar la siguiente celda para copia el valor obtenido y pegarlo en el cuestionario del Campus Virtual.\n"
      ],
      "metadata": {
        "id": "DJmlL9uLelqU"
      }
    },
    {
      "cell_type": "code",
      "source": [
        "datos = ['Xi Perez', 'Ramiro Smith', 'Catalina Gronch', 'Maria Lullo', 'Emma Lee',\n",
        "         'Roberto Wang', 'Marcelo Casamiro', 'Amalio Boneta', 'Patricia Pereyra',\n",
        "         'Esteban Pucheta', 'Mimi Martinez', 'Roberto Rada', 'Radamel Nilsen',\n",
        "         'Carla Tolosa', 'Fernando Rey', 'Carl Joshy', 'Yundi Ma']\n",
        "\n",
        "def apellido_incluido(apellido, datos):\n",
        "    apellido_normalizado = apellido.strip().lower()  # Convertir a minúsculas y eliminar espacios extra\n",
        "\n",
        "    for nombre_completo in datos:\n",
        "        nombre_completo = nombre_completo.strip()  # Eliminar espacios extra al inicio y fin\n",
        "        partes = nombre_completo.split()  # Dividir en nombre y apellido\n",
        "\n",
        "        if len(partes) != 2:\n",
        "            continue  # Si no tiene exactamente dos partes (nombre y apellido), pasar al siguiente\n",
        "\n",
        "        apellido_en_lista = partes[1].lower()\n",
        "\n",
        "        if apellido_normalizado == apellido_en_lista:\n",
        "            return nombre_completo\n",
        "\n",
        "    return \"No se encuentra el apellido\"\n",
        "\n",
        "resultado = apellido_incluido(\"   grOnch\", datos)\n",
        "print(resultado)"
      ],
      "metadata": {
        "id": "b_vJzar21c9P",
        "outputId": "8b599f1c-9819-44c7-f4ea-fa078652dd7a",
        "colab": {
          "base_uri": "https://localhost:8080/"
        }
      },
      "execution_count": 11,
      "outputs": [
        {
          "output_type": "stream",
          "name": "stdout",
          "text": [
            "Catalina Gronch\n"
          ]
        }
      ]
    },
    {
      "cell_type": "code",
      "source": [
        "#@title Correr esta celda, copiar la respuesta y pegar el texto en el campus\n",
        "try:\n",
        "  display(str(apellido_incluido(\"   grOnch\", datos)))\n",
        "except (NameError):\n",
        "  print(\"No se guardo una respuesta en la varible respuesta_8, copiar la siguinte respuesta:\")\n",
        "  display(str('No se encuentra el apellido'))\n",
        "except:\n",
        "  display(str('No se encuentra el apellido'))\n"
      ],
      "metadata": {
        "cellView": "form",
        "id": "5nQCTSCQOKtl"
      },
      "execution_count": null,
      "outputs": []
    },
    {
      "cell_type": "markdown",
      "source": [
        "## ➡ 9. Usar expresiones regulares (regex) para extraer los codigos N-ID del siguiente del siguiente texto:\n",
        "\n",
        "Los codigos N-ID son aquellos codigos conformados por digitos y letras.\n",
        "\n",
        "Guardar la respuesta en la variable `respuestas_9`. Ejecutar la siguiente celda para copia la lista obtenida y pegarla en el cuestionario del Campus Virtual."
      ],
      "metadata": {
        "id": "4oi48MCpyBE_"
      }
    },
    {
      "cell_type": "code",
      "source": [
        "import re\n",
        "\n",
        "texto = '''Datos del Empleador:Javier Morales \\n\n",
        "CUIT:2039481034 \\n Contacto:jmorales@opensource.com\n",
        "\\n N-ID:813h19djasdj293j \\n Datos del Empleador: Rodrigo Perez \\n\n",
        "CUIT:2384923483 \\n Contacto: rperez@opensource.com.ar \\n N-ID: 283h1fa93ns8dj3a \\n\n",
        "Datos del Empleador: Sofía Regex \\n CUIT:2374813948 Contacto: sregex@amen.py \\n N-ID: 29283hdj37g9J2s6'''\n",
        "\n",
        "patron = r'N-ID: (\\w+)'\n",
        "codigos_n_id = re.findall(patron, texto)\n",
        "\n",
        "print(codigos_n_id)"
      ],
      "metadata": {
        "id": "QlFl6-i7rPN1",
        "outputId": "8f01fa49-6992-44af-a0e2-e6325e1e9d8d",
        "colab": {
          "base_uri": "https://localhost:8080/"
        }
      },
      "execution_count": 13,
      "outputs": [
        {
          "output_type": "stream",
          "name": "stdout",
          "text": [
            "['283h1fa93ns8dj3a', '29283hdj37g9J2s6']\n"
          ]
        }
      ]
    },
    {
      "cell_type": "code",
      "source": [
        "#@title Correr esta celda, copiar la respuesta y pegar el texto en el campus\n",
        "try:\n",
        "  display(str(list(respuesta_9)))\n",
        "except (NameError):\n",
        "  print(\"No se guardo una respuesta en la varible respuesta_9, copiar la siguinte respuesta:\")\n",
        "  display(str([]))\n",
        "except:\n",
        "  display(str([]))\n"
      ],
      "metadata": {
        "cellView": "form",
        "id": "2jOVQOuwO0nv"
      },
      "execution_count": null,
      "outputs": []
    },
    {
      "cell_type": "markdown",
      "source": [
        "## ➡ 10. Si en una carpeta vacia ejecutamos el siguiente codigo, que sucedera:\n",
        "```python\n",
        "import os\n",
        "\n",
        "os.mkdir(\"saludos\")\n",
        "\n",
        "with open(\"saludo.txt\", \"w\") as file_saludo:\n",
        "    mensaje = \"Hola Humai\"\n",
        "    file_saludo.write(mensaje)\n",
        "```\n",
        "\n",
        "\n",
        "- A) Se creara un archivo `saludo.txt` dentro de el directorio `saludos`.\n",
        "- B) Se generara un error `NameError: name 'mensaje' is not defined`.\n",
        "- C) Se creara un archivo `saludo.txt` en el mismo directorio que el `.py`\n",
        "- D) Se generara un error debido a que el directorio `saludos` no existe."
      ],
      "metadata": {
        "id": "yEWkwQ7jrMmt"
      }
    },
    {
      "cell_type": "code",
      "source": [
        "respuesta_10 = 'Se generara un error debido a que el directorio `saludos` no existe.' #@param [\"-\", \"Se creara un archivo `saludo.txt` dentro de el directorio `saludos`.\", \"Se generara un error `NameError: name 'mensaje' is not defined`.\", \"Se creara un archivo `saludo.txt` en el mismo directorio que el `.py`\", \"Se generara un error debido a que el directorio `saludos` no existe.\"]"
      ],
      "metadata": {
        "id": "Ca8ymRzWOeVl"
      },
      "execution_count": null,
      "outputs": []
    },
    {
      "cell_type": "markdown",
      "source": [
        "## ➡ 11. La \"main guard\" (if \\_\\_name\\_\\_ ...) permite:\n",
        "- A) Controlar que se ejecuta cuando se llama al script.\n",
        "- B) Inicializar el script.\n",
        "- C) Guardar variables globales.\n",
        "- D) Definir funciones.\n"
      ],
      "metadata": {
        "id": "ritRaJt97lvi"
      }
    },
    {
      "cell_type": "code",
      "source": [
        "respuesta_11 = 'Controlar que se ejecuta cuando se llama al script' #@param [\"-\", \"Controlar que se ejecuta cuando se llama al script\", \"Inicializar el script\", \"Guardar variables globales\", \"Definir funciones\"]"
      ],
      "metadata": {
        "id": "MerFm61fgDtw"
      },
      "execution_count": null,
      "outputs": []
    },
    {
      "cell_type": "markdown",
      "source": [
        "Te enviaremos tu resultado próximamente. Cualquier consulta estamos a disposición por el canal de <a href='https://discord.gg/7G86d7p5'>Discord</a> y por correo.  \n",
        "\n",
        "<center><h3> <b>¡Muchas gracias! </b> </h3></center>\n",
        "<br>\n",
        "<table>\n",
        "<td>\n",
        "<center><img src='https://storage.googleapis.com/humai-datasets/static/logos/estudiante.png' width='150px' margin='100px'></img></center>\n",
        "<center><img src='https://storage.googleapis.com/humai-datasets/static/logos/humai(1).png' width='150px' margin='100px'></img></center>\n",
        "\n",
        "\n",
        "\n",
        "<a href=\"https://discord.gg/wYCA2chQvb\"><img\n",
        "        src=\"https://cdn-icons-png.flaticon.com/512/5968/5968898.png\" width=\"30px\" alt=\"discord\"></a>\n",
        "<a href=\"https://www.instagram.com/institutohumai\">\n",
        "<img src=\"https://storage.googleapis.com/humai-datasets/static/icons/ig.png\" width=\"30px\" alt=\"IG\"></a><a href=\"https://github.com/institutohumai\"><img src=\"https://storage.googleapis.com/humai-datasets/static/icons/github_b.png\" width=\"30px\" alt=\"Git\"></a><a href=\"https://www.linkedin.com/company/instituto-humai/\"><img src=\"https://storage.googleapis.com/humai-datasets/static/icons/linkedin.png\" width=\"30px\" alt=\"LinkedIn\"></a><a href=\"https://www.facebook.com/iHumai\"><img src=\"https://storage.googleapis.com/humai-datasets/static/icons/facebook.png\" width=\"30px\" alt=\"FB\"></a></center>"
      ],
      "metadata": {
        "id": "-57BTGRzXd3q"
      }
    }
  ]
}