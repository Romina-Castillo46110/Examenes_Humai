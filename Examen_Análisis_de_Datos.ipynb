{
  "nbformat": 4,
  "nbformat_minor": 0,
  "metadata": {
    "kernelspec": {
      "display_name": "Python 3",
      "language": "python",
      "name": "python3"
    },
    "language_info": {
      "codemirror_mode": {
        "name": "ipython",
        "version": 3
      },
      "file_extension": ".py",
      "mimetype": "text/x-python",
      "name": "python",
      "nbconvert_exporter": "python",
      "pygments_lexer": "ipython3",
      "version": "3.7.7"
    },
    "colab": {
      "provenance": [],
      "include_colab_link": true
    }
  },
  "cells": [
    {
      "cell_type": "markdown",
      "metadata": {
        "id": "view-in-github",
        "colab_type": "text"
      },
      "source": [
        "<a href=\"https://colab.research.google.com/github/Romina-Castillo46110/Examenes_Humai/blob/main/Examen_An%C3%A1lisis_de_Datos.ipynb\" target=\"_parent\"><img src=\"https://colab.research.google.com/assets/colab-badge.svg\" alt=\"Open In Colab\"/></a>"
      ]
    },
    {
      "cell_type": "markdown",
      "metadata": {
        "id": "TgeDuTe8GJBz"
      },
      "source": [
        "<center><img src='https://storage.googleapis.com/humai-datasets/static/logos/estudiante.png' width='150px' margin='100px'></img></center>\n",
        "<center><img src='https://storage.googleapis.com/humai-datasets/static/logos/humai(1).png' width='150px' margin='100px'></img></center>\n",
        "\n",
        "\n",
        "<h2><center> Evaluación - Análisis de Datos </center></h2>\n",
        "\n",
        "---"
      ]
    },
    {
      "cell_type": "markdown",
      "metadata": {
        "id": "sp1lt8qaNGgA"
      },
      "source": [
        "## Instrucciones:\n",
        "\n",
        "#### Al comenzar:\n",
        "1. **Guardar una copia** de la Colab en tu Google Drive al empezar para poder guardar las respuestas.  \n",
        "```Archivo (File) -> Guardar una copia en drive (Save a copy on Drive) ```\n",
        "2. **Completar** más abajo con tu nombre completo, apellido y mail\n",
        "\n",
        "#### Al finalizar:\n",
        "3. Configurar los permisos del colab utilizado para resolver el examen, para que cualquier persona tenga acceso como \"Lector\". Copiar y pegar el link en la sección correspondiente del cuestionario que figura en el Campus Virtual.\n",
        "4. Revisar todas tus respuestas.\n",
        "\n"
      ]
    },
    {
      "cell_type": "markdown",
      "source": [
        "## Código de Conducta\n",
        "Durante el examen pueden buscar en Google, ver el material de clases pasadas o apuntes propios, pero **no se permite consultar a otras personas**.  \n",
        "\n",
        "Aceptar\tser\testudiante\tde Humai conlleva\tla\tobligación de\tuna\tconducta honesta,\tética,\tde\tintegridad y honestidad académica.\n",
        "\n",
        "Esta instancia de evaluación ofrecida por Humai exige un estricto apego a los valores de honestidad intelectual propias a la labor del estudiante. Fallar ante los mismos consistuye no solo un perjucio a la moral y la relación educativa en buena fe, si no que socava el propio esfuerzo de aprendizaje.\n",
        "\n",
        "El plagio y uso abusivo de material intelectual ajeno es considerado una deshonestidad académica. En caso de sospechar una falta al código de Ética, se deliberará una sanción correspondiente que puede incluir la anulación del examen, la suspensión o expulsión de la cursada.\n",
        "\n",
        "En caso de estar de acuerdo, aceptar la siguiente\n",
        "declaración:\n",
        "\n",
        "```Declaro mi compromiso en desempeñarme con honestidad académica e intelectual, y mantener los más altos estándares éticos aplicando los conocimientos contemplados en Humai```"
      ],
      "metadata": {
        "id": "003S451qNb-s"
      }
    },
    {
      "cell_type": "code",
      "source": [
        "Acepto=True #@param{type:\"boolean\"}\n",
        "\n",
        "assert Acepto, 'Se debe aceptar el código de conducta'"
      ],
      "metadata": {
        "id": "YBE_GF0hM9ro"
      },
      "execution_count": 1,
      "outputs": []
    },
    {
      "cell_type": "markdown",
      "source": [
        "No pierdan de vista el total de los ejercicios para administrar el tiempo, les sugerimos que completen primero lo que tengan más claro. Dicho eso."
      ],
      "metadata": {
        "id": "0fEMC8EkSqrI"
      }
    },
    {
      "cell_type": "code",
      "metadata": {
        "id": "MkOzELdMkobR",
        "colab": {
          "base_uri": "https://localhost:8080/"
        },
        "outputId": "7bd66feb-2915-4d12-c2c4-5f7d530b46d6",
        "cellView": "form"
      },
      "source": [
        "#@markdown Datos del estudiante<br><br>\n",
        "#@markdown Ejecutar celda y dar permisos a Google Colab<br><br>\n",
        "\n",
        "import re\n",
        "\n",
        "if 'Acepto' not in globals() or Acepto == False:\n",
        "  raise ValueError('Debes aceptar el codigo de conducta y ejecutar ambas celdas')\n",
        "\n",
        "from datetime import datetime, timedelta\n",
        "_hora = datetime.utcnow()\n",
        "# en arg estamos en utc-3\n",
        "_desfase = timedelta(hours=3)\n",
        "# decimos en qué formato queremos la fecha\n",
        "# ver más en https://realpython.com/python-time-module/\n",
        "_formato = \"%m-%d-%Y_%H:%M:%S\"\n",
        "_fecha_inicio = (_hora - _desfase).strftime(_formato)\n",
        "print((_hora - _desfase).strftime(\"%m/%d/%Y, %H:%M:%S\"))\n",
        "\n",
        "_nombre_completo = 'Romina Castillo' #@param {type:\"string\"}\n",
        "_mail = 'romina.castillo195@gmail.com' #@param {type:\"string\"}\n",
        "\n",
        "if len(_nombre_completo) <= 0 or len(_mail) <= 0:\n",
        "  raise ValueError('Es necesario completar nombre completo y mail')\n",
        "\n",
        "# if re.fullmatch(r\"\\s@\\w+\\.com(?:\\.\\w+)?\", _mail, flags=re.IGNORECASE) is None:\n",
        "#   raise ValueError('Es necesario ingresar un mail válido')\n",
        "\n",
        "for i in range(20):\n",
        "  v = f'respuesta_{i}'\n",
        "  if v not in globals():\n",
        "    globals()[v] = ''"
      ],
      "execution_count": 2,
      "outputs": [
        {
          "output_type": "stream",
          "name": "stdout",
          "text": [
            "08/01/2024, 17:00:52\n"
          ]
        }
      ]
    },
    {
      "cell_type": "markdown",
      "source": [
        "<center> 🏁 ¡Muchos éxitos 🤓! 🏁 </center>\n",
        "\n",
        "---"
      ],
      "metadata": {
        "id": "GE3nrlSrBViX"
      }
    },
    {
      "cell_type": "code",
      "source": [
        "#@markdown ## Generar los archivos (No modificar)\n",
        "#@markdown Se crean los Dataframes de nombre:\n",
        "#@markdown - `df_provincias`\n",
        "#@markdown - `df_vuelos`\n",
        "#@markdown - `df_pagos`\n",
        "\n",
        "import requests\n",
        "import io\n",
        "import pandas as pd\n",
        "import urllib3\n",
        "urllib3.disable_warnings()\n",
        "\n",
        "def generate_df(url):\n",
        "  response = requests.get(url, verify=False)\n",
        "  csv_data = response.content.decode('utf-8')\n",
        "  return pd.read_csv(io.StringIO(csv_data))\n",
        "\n",
        "df_provincias = generate_df(url='http://datos.yvera.gob.ar/dataset/09679fe3-7379-481d-a36a-6b1e3d7374b1/resource/42a60de1-a6d5-473b-a2c0-415e25ad7f31/download/personas_beneficiarias.csv')\n",
        "df_provincias = df_provincias[df_provincias['genero'] != 'X']\n",
        "df_vuelos = generate_df(url='http://datos.yvera.gob.ar/dataset/09679fe3-7379-481d-a36a-6b1e3d7374b1/resource/9d4db872-0a51-4042-9daa-e55bc7a3044c/download/viajes_origen_destino_mes.csv')\n",
        "df_pagos = generate_df(url='http://datos.yvera.gob.ar/dataset/09679fe3-7379-481d-a36a-6b1e3d7374b1/resource/2eaac913-0273-41cb-b1b2-c810e59d2334/download/comprobantes_fecha.csv')"
      ],
      "metadata": {
        "id": "doOIM-mudRK2"
      },
      "execution_count": 57,
      "outputs": []
    },
    {
      "cell_type": "markdown",
      "metadata": {
        "id": "D23jC_VdGJB0"
      },
      "source": [
        "#### 1. ¿Qué función se utiliza cuando se quieren generar los percentiles de una columna de un DataFrame?\n",
        "\n",
        "*1 punto*"
      ]
    },
    {
      "cell_type": "code",
      "metadata": {
        "id": "AqSbn3YxWCGC"
      },
      "source": [
        "#@markdown groupby(*argumentos).max()\n",
        "A = False #@param{type:\"boolean\"}\n",
        "#@markdown qcut(*argumentos)\n",
        "B = True #@param {type:\"boolean\"}\n",
        "#@markdown median(*argumentos)\n",
        "C = False #@param {type:\"boolean\"}\n",
        "#@markdown pivot_table(*argumentos)\n",
        "D = False #@param {type:\"boolean\"}\n",
        "\n",
        "respuesta_1 = [A, B, C, D]"
      ],
      "execution_count": 8,
      "outputs": []
    },
    {
      "cell_type": "markdown",
      "metadata": {
        "id": "ujQn5N-8W2k8"
      },
      "source": [
        "#### 2. ¿Cuál es el método que se utiliza para eliminar las filas que contienen valores nulos?\n",
        "\n",
        "*1 punto*"
      ]
    },
    {
      "cell_type": "code",
      "metadata": {
        "id": "o61O0Ni4W7ys"
      },
      "source": [
        "respuesta_2 = \"dropna()\" #@param [\"Selecciona una opcion\", \"dropna()\",\"str.replace()\", \"fillna()\", \"interpolate()\"]"
      ],
      "execution_count": 9,
      "outputs": []
    },
    {
      "cell_type": "markdown",
      "metadata": {
        "id": "kpPHtF8PGJB0"
      },
      "source": [
        "#### 3. Si se cuenta con la siguiente tabla, ¿qué método se debe utilizar para desplazar las columnas (exceptuando indice_tiempo) a registros (filas)?\n",
        "\n",
        "|    | indice_tiempo   |   Buenos Aires_No residentes |   Buenos Aires_Residentes |   CABA_No residentes |   CABA_Residentes |   Cuyo_No residentes |   Cuyo_Residentes |   Córdoba_No residentes |   Córdoba_Residentes |\n",
        "|---:|:-----------------|-----------------------------:|--------------------------:|---------------------:|------------------:|---------------------:|------------------:|------------------------:|---------------------:|\n",
        "|  0 | 2007-01-01       |                        12889 |                    401221 |               196750 |            139181 |                32889 |            125410 |                    6298 |               255307 |\n",
        "|  1 | 2007-02-01       |                        11313 |                    352906 |               199063 |            151878 |                37394 |            126273 |                    7768 |               216460 |\n",
        "|  2 | 2007-03-01       |                         6533 |                    254673 |               229160 |            184589 |                33596 |            127375 |                    7278 |               147631 |\n",
        "|  3 | 2007-04-01       |                         2954 |                    195221 |               214612 |            172644 |                33092 |            127104 |                    5521 |               137221 |\n",
        "|  4 | 2007-05-01       |                         2050 |                    113515 |               181224 |            182621 |                16971 |            106244 |                    6219 |               122749 |\n",
        "\n",
        "*1 punto*"
      ]
    },
    {
      "cell_type": "code",
      "metadata": {
        "id": "c5SCdJahXCzo",
        "cellView": "form"
      },
      "source": [
        "#@markdown set_index()\n",
        "A = False #@param{type:\"boolean\"}\n",
        "#@markdown pivot_table()\n",
        "B = False #@param {type:\"boolean\"}\n",
        "#@markdown normalize()\n",
        "C = False #@param {type:\"boolean\"}\n",
        "#@markdown melt()\n",
        "D = True #@param {type:\"boolean\"}\n",
        "\n",
        "respuesta_3 = [A, B, C, D]"
      ],
      "execution_count": 10,
      "outputs": []
    },
    {
      "cell_type": "markdown",
      "metadata": {
        "id": "8FzDyOJwZMRC"
      },
      "source": [
        "#### 4. Si se tiene un DataFrame `df` de `fecha`, `videojuegos_vendidos` y `género`. ¿Cual es la sintaxis correcta para calcular el promedio y suma de videojuegos vendidos por género?\n",
        "*1 punto*\n",
        "\n"
      ]
    },
    {
      "cell_type": "markdown",
      "source": [],
      "metadata": {
        "id": "6zfdaFs0l6_O"
      }
    },
    {
      "cell_type": "code",
      "metadata": {
        "id": "f2PIugQTZMRC"
      },
      "source": [
        "#@markdown df.groupby(['género', 'fecha']).agg({'videojuegos': ['sum', 'median']})\n",
        "A = False #@param{type:\"boolean\"}\n",
        "#@markdown df.groupby('género').sum().mean()\n",
        "B = False #@param {type:\"boolean\"}\n",
        "#@markdown df.groupby('género').agg({'videojuegos_vendidos': ['sum', 'mean']})\n",
        "C = True #@param {type:\"boolean\"}\n",
        "#@markdown df.groupby('género').aggregate({'videojuegos_vendidos': 'sum', 'videojuegos_vendidos': 'median'})\n",
        "D  = False #@param {type:\"boolean\"}\n",
        "\n",
        "respuesta_4 = [A, B, C, D]"
      ],
      "execution_count": 11,
      "outputs": []
    },
    {
      "cell_type": "markdown",
      "metadata": {
        "id": "4dxJOHFbX4zX"
      },
      "source": [
        "#### 5. Analizar los Dataframes según las siguientes consignas\n",
        "\n",
        "- df_provincias:\n",
        "  - Columna \"genero\": revisar los valores únicos que tiene la columna.\n",
        "  - Columna \"personas_beneficiarias\": ¿hay valores nulos o inválidos?\n",
        "\n",
        "- df_vuelos:\n",
        "  - Columna \"viajes\": ¿hay valores nulos o inválidos?\n",
        "\n",
        "- df_pagos:\n",
        "  - Columna \"fecha_carga\": convertir la columna en formato datetime.\n",
        "\n",
        "*1 punto*\n",
        "\n",
        "Mostrar los resultados de las operaciones pedidas y luego guardar la **lista de valores unicos de la columna `genero`** del `df_provincias` en una variable `respuesta_5`\n"
      ]
    },
    {
      "cell_type": "code",
      "source": [
        "\n",
        "valores_unicos_genero = df_provincias['genero'].unique()\n",
        "print(\"Valores únicos en la columna 'genero':\", valores_unicos_genero)\n",
        "\n",
        "valores_nulos_personas_beneficiarias = df_provincias['personas_beneficiarias'].isnull().sum()\n",
        "valores_invalidos_personas_beneficiarias = df_provincias['personas_beneficiarias'].apply(lambda x: not isinstance(x, (int, float)) if pd.notnull(x) else False).sum()\n",
        "print(\"Número de valores nulos en 'personas_beneficiarias':\", valores_nulos_personas_beneficiarias)\n",
        "print(\"Número de valores inválidos en 'personas_beneficiarias':\", valores_invalidos_personas_beneficiarias)\n",
        "\n",
        "valores_nulos_viajes = df_vuelos['viajes'].isnull().sum()\n",
        "valores_invalidos_viajes = df_vuelos['viajes'].apply(lambda x: not isinstance(x, (int, float)) if pd.notnull(x) else False).sum()\n",
        "print(\"Número de valores nulos en 'viajes':\", valores_nulos_viajes)\n",
        "print(\"Número de valores inválidos en 'viajes':\", valores_invalidos_viajes)\n",
        "\n",
        "df_pagos['fecha_carga'] = pd.to_datetime(df_pagos['fecha_carga'], errors='coerce')\n",
        "print(\"Columna 'fecha_carga' convertida a datetime.\")\n",
        "\n",
        "respuesta_5 = valores_unicos_genero\n",
        "print(\"Lista de valores únicos de 'genero':\", respuesta_5)"
      ],
      "metadata": {
        "id": "Ecgi76iMZYim",
        "outputId": "ada8a693-8497-42b1-b186-2c42b8114aca",
        "colab": {
          "base_uri": "https://localhost:8080/"
        }
      },
      "execution_count": 58,
      "outputs": [
        {
          "output_type": "stream",
          "name": "stdout",
          "text": [
            "Valores únicos en la columna 'genero': ['Femenino' 'Masculino']\n",
            "Número de valores nulos en 'personas_beneficiarias': 0\n",
            "Número de valores inválidos en 'personas_beneficiarias': 0\n",
            "Número de valores nulos en 'viajes': 0\n",
            "Número de valores inválidos en 'viajes': 0\n",
            "Columna 'fecha_carga' convertida a datetime.\n",
            "Lista de valores únicos de 'genero': ['Femenino' 'Masculino']\n"
          ]
        }
      ]
    },
    {
      "cell_type": "code",
      "source": [
        "#@title Correr esta celda, copiar la respuesta y pegar el texto en el campus\n",
        "try:\n",
        "  display(str(list(respuesta_5)))\n",
        "except (NameError):\n",
        "  print(\"No se guardo una respuesta en la varible respuesta_5, copiar la siguinte respuesta:\")\n",
        "  display(str([]))\n",
        "except:\n",
        "  display(str([]))\n"
      ],
      "metadata": {
        "id": "eJa5btjgNdOk",
        "colab": {
          "base_uri": "https://localhost:8080/",
          "height": 35
        },
        "outputId": "92d723a5-1c82-4857-cf11-08ea5ab7c05b"
      },
      "execution_count": 13,
      "outputs": [
        {
          "output_type": "display_data",
          "data": {
            "text/plain": [
              "\"['Femenino', 'Masculino']\""
            ],
            "application/vnd.google.colaboratory.intrinsic+json": {
              "type": "string"
            }
          },
          "metadata": {}
        }
      ]
    },
    {
      "cell_type": "markdown",
      "metadata": {
        "id": "56pB-ZaXGJB0"
      },
      "source": [
        "#### 6.a) A partir del DataFrame `df_provincias`, operar sobre la columna `tramo_edad` para separar sus valores en nuevas columnas `min_edad` y `max_edad`\n",
        "\n",
        "Nota:\n",
        "- Las columnas tienen que ser de tipo entero (int)\n",
        "- Si en algún caso no se aclara el límite superior de un rango de edades, tomar como edad máxima los 100 años.\n",
        "\n",
        "*1 punto*"
      ]
    },
    {
      "cell_type": "code",
      "source": [
        "df_provincias.head()"
      ],
      "metadata": {
        "id": "cq5z9XULuZo9",
        "outputId": "93720636-8a33-4da0-c44d-4bc0782412be",
        "colab": {
          "base_uri": "https://localhost:8080/",
          "height": 206
        }
      },
      "execution_count": 53,
      "outputs": [
        {
          "output_type": "execute_result",
          "data": {
            "text/plain": [
              "  provincia     tramo_edad     genero  personas_beneficiarias     edicion  \\\n",
              "0     Chaco        18 a 29   Femenino                     215  previaje 1   \n",
              "1     Chaco   30 a 44 años   Femenino                     478  previaje 1   \n",
              "2     Chaco   45 a 59 años   Femenino                     238  previaje 1   \n",
              "3     Chaco  60 años y más   Femenino                     103  previaje 1   \n",
              "4     Chaco        18 a 29  Masculino                     179  previaje 1   \n",
              "\n",
              "   min_edad  max_edad  \n",
              "0        18        29  \n",
              "1        30        44  \n",
              "2        45        59  \n",
              "3        60       100  \n",
              "4        18        29  "
            ],
            "text/html": [
              "\n",
              "  <div id=\"df-b59dc36b-805b-49bd-9066-51e4af221902\" class=\"colab-df-container\">\n",
              "    <div>\n",
              "<style scoped>\n",
              "    .dataframe tbody tr th:only-of-type {\n",
              "        vertical-align: middle;\n",
              "    }\n",
              "\n",
              "    .dataframe tbody tr th {\n",
              "        vertical-align: top;\n",
              "    }\n",
              "\n",
              "    .dataframe thead th {\n",
              "        text-align: right;\n",
              "    }\n",
              "</style>\n",
              "<table border=\"1\" class=\"dataframe\">\n",
              "  <thead>\n",
              "    <tr style=\"text-align: right;\">\n",
              "      <th></th>\n",
              "      <th>provincia</th>\n",
              "      <th>tramo_edad</th>\n",
              "      <th>genero</th>\n",
              "      <th>personas_beneficiarias</th>\n",
              "      <th>edicion</th>\n",
              "      <th>min_edad</th>\n",
              "      <th>max_edad</th>\n",
              "    </tr>\n",
              "  </thead>\n",
              "  <tbody>\n",
              "    <tr>\n",
              "      <th>0</th>\n",
              "      <td>Chaco</td>\n",
              "      <td>18 a 29</td>\n",
              "      <td>Femenino</td>\n",
              "      <td>215</td>\n",
              "      <td>previaje 1</td>\n",
              "      <td>18</td>\n",
              "      <td>29</td>\n",
              "    </tr>\n",
              "    <tr>\n",
              "      <th>1</th>\n",
              "      <td>Chaco</td>\n",
              "      <td>30 a 44 años</td>\n",
              "      <td>Femenino</td>\n",
              "      <td>478</td>\n",
              "      <td>previaje 1</td>\n",
              "      <td>30</td>\n",
              "      <td>44</td>\n",
              "    </tr>\n",
              "    <tr>\n",
              "      <th>2</th>\n",
              "      <td>Chaco</td>\n",
              "      <td>45 a 59 años</td>\n",
              "      <td>Femenino</td>\n",
              "      <td>238</td>\n",
              "      <td>previaje 1</td>\n",
              "      <td>45</td>\n",
              "      <td>59</td>\n",
              "    </tr>\n",
              "    <tr>\n",
              "      <th>3</th>\n",
              "      <td>Chaco</td>\n",
              "      <td>60 años y más</td>\n",
              "      <td>Femenino</td>\n",
              "      <td>103</td>\n",
              "      <td>previaje 1</td>\n",
              "      <td>60</td>\n",
              "      <td>100</td>\n",
              "    </tr>\n",
              "    <tr>\n",
              "      <th>4</th>\n",
              "      <td>Chaco</td>\n",
              "      <td>18 a 29</td>\n",
              "      <td>Masculino</td>\n",
              "      <td>179</td>\n",
              "      <td>previaje 1</td>\n",
              "      <td>18</td>\n",
              "      <td>29</td>\n",
              "    </tr>\n",
              "  </tbody>\n",
              "</table>\n",
              "</div>\n",
              "    <div class=\"colab-df-buttons\">\n",
              "\n",
              "  <div class=\"colab-df-container\">\n",
              "    <button class=\"colab-df-convert\" onclick=\"convertToInteractive('df-b59dc36b-805b-49bd-9066-51e4af221902')\"\n",
              "            title=\"Convert this dataframe to an interactive table.\"\n",
              "            style=\"display:none;\">\n",
              "\n",
              "  <svg xmlns=\"http://www.w3.org/2000/svg\" height=\"24px\" viewBox=\"0 -960 960 960\">\n",
              "    <path d=\"M120-120v-720h720v720H120Zm60-500h600v-160H180v160Zm220 220h160v-160H400v160Zm0 220h160v-160H400v160ZM180-400h160v-160H180v160Zm440 0h160v-160H620v160ZM180-180h160v-160H180v160Zm440 0h160v-160H620v160Z\"/>\n",
              "  </svg>\n",
              "    </button>\n",
              "\n",
              "  <style>\n",
              "    .colab-df-container {\n",
              "      display:flex;\n",
              "      gap: 12px;\n",
              "    }\n",
              "\n",
              "    .colab-df-convert {\n",
              "      background-color: #E8F0FE;\n",
              "      border: none;\n",
              "      border-radius: 50%;\n",
              "      cursor: pointer;\n",
              "      display: none;\n",
              "      fill: #1967D2;\n",
              "      height: 32px;\n",
              "      padding: 0 0 0 0;\n",
              "      width: 32px;\n",
              "    }\n",
              "\n",
              "    .colab-df-convert:hover {\n",
              "      background-color: #E2EBFA;\n",
              "      box-shadow: 0px 1px 2px rgba(60, 64, 67, 0.3), 0px 1px 3px 1px rgba(60, 64, 67, 0.15);\n",
              "      fill: #174EA6;\n",
              "    }\n",
              "\n",
              "    .colab-df-buttons div {\n",
              "      margin-bottom: 4px;\n",
              "    }\n",
              "\n",
              "    [theme=dark] .colab-df-convert {\n",
              "      background-color: #3B4455;\n",
              "      fill: #D2E3FC;\n",
              "    }\n",
              "\n",
              "    [theme=dark] .colab-df-convert:hover {\n",
              "      background-color: #434B5C;\n",
              "      box-shadow: 0px 1px 3px 1px rgba(0, 0, 0, 0.15);\n",
              "      filter: drop-shadow(0px 1px 2px rgba(0, 0, 0, 0.3));\n",
              "      fill: #FFFFFF;\n",
              "    }\n",
              "  </style>\n",
              "\n",
              "    <script>\n",
              "      const buttonEl =\n",
              "        document.querySelector('#df-b59dc36b-805b-49bd-9066-51e4af221902 button.colab-df-convert');\n",
              "      buttonEl.style.display =\n",
              "        google.colab.kernel.accessAllowed ? 'block' : 'none';\n",
              "\n",
              "      async function convertToInteractive(key) {\n",
              "        const element = document.querySelector('#df-b59dc36b-805b-49bd-9066-51e4af221902');\n",
              "        const dataTable =\n",
              "          await google.colab.kernel.invokeFunction('convertToInteractive',\n",
              "                                                    [key], {});\n",
              "        if (!dataTable) return;\n",
              "\n",
              "        const docLinkHtml = 'Like what you see? Visit the ' +\n",
              "          '<a target=\"_blank\" href=https://colab.research.google.com/notebooks/data_table.ipynb>data table notebook</a>'\n",
              "          + ' to learn more about interactive tables.';\n",
              "        element.innerHTML = '';\n",
              "        dataTable['output_type'] = 'display_data';\n",
              "        await google.colab.output.renderOutput(dataTable, element);\n",
              "        const docLink = document.createElement('div');\n",
              "        docLink.innerHTML = docLinkHtml;\n",
              "        element.appendChild(docLink);\n",
              "      }\n",
              "    </script>\n",
              "  </div>\n",
              "\n",
              "\n",
              "<div id=\"df-510132a0-2247-4485-984a-42ad50dabee2\">\n",
              "  <button class=\"colab-df-quickchart\" onclick=\"quickchart('df-510132a0-2247-4485-984a-42ad50dabee2')\"\n",
              "            title=\"Suggest charts\"\n",
              "            style=\"display:none;\">\n",
              "\n",
              "<svg xmlns=\"http://www.w3.org/2000/svg\" height=\"24px\"viewBox=\"0 0 24 24\"\n",
              "     width=\"24px\">\n",
              "    <g>\n",
              "        <path d=\"M19 3H5c-1.1 0-2 .9-2 2v14c0 1.1.9 2 2 2h14c1.1 0 2-.9 2-2V5c0-1.1-.9-2-2-2zM9 17H7v-7h2v7zm4 0h-2V7h2v10zm4 0h-2v-4h2v4z\"/>\n",
              "    </g>\n",
              "</svg>\n",
              "  </button>\n",
              "\n",
              "<style>\n",
              "  .colab-df-quickchart {\n",
              "      --bg-color: #E8F0FE;\n",
              "      --fill-color: #1967D2;\n",
              "      --hover-bg-color: #E2EBFA;\n",
              "      --hover-fill-color: #174EA6;\n",
              "      --disabled-fill-color: #AAA;\n",
              "      --disabled-bg-color: #DDD;\n",
              "  }\n",
              "\n",
              "  [theme=dark] .colab-df-quickchart {\n",
              "      --bg-color: #3B4455;\n",
              "      --fill-color: #D2E3FC;\n",
              "      --hover-bg-color: #434B5C;\n",
              "      --hover-fill-color: #FFFFFF;\n",
              "      --disabled-bg-color: #3B4455;\n",
              "      --disabled-fill-color: #666;\n",
              "  }\n",
              "\n",
              "  .colab-df-quickchart {\n",
              "    background-color: var(--bg-color);\n",
              "    border: none;\n",
              "    border-radius: 50%;\n",
              "    cursor: pointer;\n",
              "    display: none;\n",
              "    fill: var(--fill-color);\n",
              "    height: 32px;\n",
              "    padding: 0;\n",
              "    width: 32px;\n",
              "  }\n",
              "\n",
              "  .colab-df-quickchart:hover {\n",
              "    background-color: var(--hover-bg-color);\n",
              "    box-shadow: 0 1px 2px rgba(60, 64, 67, 0.3), 0 1px 3px 1px rgba(60, 64, 67, 0.15);\n",
              "    fill: var(--button-hover-fill-color);\n",
              "  }\n",
              "\n",
              "  .colab-df-quickchart-complete:disabled,\n",
              "  .colab-df-quickchart-complete:disabled:hover {\n",
              "    background-color: var(--disabled-bg-color);\n",
              "    fill: var(--disabled-fill-color);\n",
              "    box-shadow: none;\n",
              "  }\n",
              "\n",
              "  .colab-df-spinner {\n",
              "    border: 2px solid var(--fill-color);\n",
              "    border-color: transparent;\n",
              "    border-bottom-color: var(--fill-color);\n",
              "    animation:\n",
              "      spin 1s steps(1) infinite;\n",
              "  }\n",
              "\n",
              "  @keyframes spin {\n",
              "    0% {\n",
              "      border-color: transparent;\n",
              "      border-bottom-color: var(--fill-color);\n",
              "      border-left-color: var(--fill-color);\n",
              "    }\n",
              "    20% {\n",
              "      border-color: transparent;\n",
              "      border-left-color: var(--fill-color);\n",
              "      border-top-color: var(--fill-color);\n",
              "    }\n",
              "    30% {\n",
              "      border-color: transparent;\n",
              "      border-left-color: var(--fill-color);\n",
              "      border-top-color: var(--fill-color);\n",
              "      border-right-color: var(--fill-color);\n",
              "    }\n",
              "    40% {\n",
              "      border-color: transparent;\n",
              "      border-right-color: var(--fill-color);\n",
              "      border-top-color: var(--fill-color);\n",
              "    }\n",
              "    60% {\n",
              "      border-color: transparent;\n",
              "      border-right-color: var(--fill-color);\n",
              "    }\n",
              "    80% {\n",
              "      border-color: transparent;\n",
              "      border-right-color: var(--fill-color);\n",
              "      border-bottom-color: var(--fill-color);\n",
              "    }\n",
              "    90% {\n",
              "      border-color: transparent;\n",
              "      border-bottom-color: var(--fill-color);\n",
              "    }\n",
              "  }\n",
              "</style>\n",
              "\n",
              "  <script>\n",
              "    async function quickchart(key) {\n",
              "      const quickchartButtonEl =\n",
              "        document.querySelector('#' + key + ' button');\n",
              "      quickchartButtonEl.disabled = true;  // To prevent multiple clicks.\n",
              "      quickchartButtonEl.classList.add('colab-df-spinner');\n",
              "      try {\n",
              "        const charts = await google.colab.kernel.invokeFunction(\n",
              "            'suggestCharts', [key], {});\n",
              "      } catch (error) {\n",
              "        console.error('Error during call to suggestCharts:', error);\n",
              "      }\n",
              "      quickchartButtonEl.classList.remove('colab-df-spinner');\n",
              "      quickchartButtonEl.classList.add('colab-df-quickchart-complete');\n",
              "    }\n",
              "    (() => {\n",
              "      let quickchartButtonEl =\n",
              "        document.querySelector('#df-510132a0-2247-4485-984a-42ad50dabee2 button');\n",
              "      quickchartButtonEl.style.display =\n",
              "        google.colab.kernel.accessAllowed ? 'block' : 'none';\n",
              "    })();\n",
              "  </script>\n",
              "</div>\n",
              "\n",
              "    </div>\n",
              "  </div>\n"
            ],
            "application/vnd.google.colaboratory.intrinsic+json": {
              "type": "dataframe",
              "variable_name": "df_provincias",
              "summary": "{\n  \"name\": \"df_provincias\",\n  \"rows\": 960,\n  \"fields\": [\n    {\n      \"column\": \"provincia\",\n      \"properties\": {\n        \"dtype\": \"category\",\n        \"num_unique_values\": 24,\n        \"samples\": [\n          \"La Pampa\",\n          \"Ciudad Aut\\u00f3noma de Buenos Aires\",\n          \"Chaco\"\n        ],\n        \"semantic_type\": \"\",\n        \"description\": \"\"\n      }\n    },\n    {\n      \"column\": \"tramo_edad\",\n      \"properties\": {\n        \"dtype\": \"category\",\n        \"num_unique_values\": 4,\n        \"samples\": [\n          \"30 a 44 a\\u00f1os\",\n          \"60 a\\u00f1os y m\\u00e1s\",\n          \"18 a 29\"\n        ],\n        \"semantic_type\": \"\",\n        \"description\": \"\"\n      }\n    },\n    {\n      \"column\": \"genero\",\n      \"properties\": {\n        \"dtype\": \"category\",\n        \"num_unique_values\": 2,\n        \"samples\": [\n          \"Masculino\",\n          \"Femenino\"\n        ],\n        \"semantic_type\": \"\",\n        \"description\": \"\"\n      }\n    },\n    {\n      \"column\": \"personas_beneficiarias\",\n      \"properties\": {\n        \"dtype\": \"number\",\n        \"std\": 7889,\n        \"min\": 4,\n        \"max\": 103922,\n        \"num_unique_values\": 743,\n        \"samples\": [\n          1956,\n          6134\n        ],\n        \"semantic_type\": \"\",\n        \"description\": \"\"\n      }\n    },\n    {\n      \"column\": \"edicion\",\n      \"properties\": {\n        \"dtype\": \"category\",\n        \"num_unique_values\": 5,\n        \"samples\": [\n          \"previaje 2\",\n          \"previaje 5\"\n        ],\n        \"semantic_type\": \"\",\n        \"description\": \"\"\n      }\n    },\n    {\n      \"column\": \"min_edad\",\n      \"properties\": {\n        \"dtype\": \"number\",\n        \"std\": 15,\n        \"min\": 18,\n        \"max\": 60,\n        \"num_unique_values\": 4,\n        \"samples\": [\n          30,\n          60\n        ],\n        \"semantic_type\": \"\",\n        \"description\": \"\"\n      }\n    },\n    {\n      \"column\": \"max_edad\",\n      \"properties\": {\n        \"dtype\": \"number\",\n        \"std\": 26,\n        \"min\": 29,\n        \"max\": 100,\n        \"num_unique_values\": 4,\n        \"samples\": [\n          44,\n          100\n        ],\n        \"semantic_type\": \"\",\n        \"description\": \"\"\n      }\n    }\n  ]\n}"
            }
          },
          "metadata": {},
          "execution_count": 53
        }
      ]
    },
    {
      "cell_type": "code",
      "source": [
        "import numpy as np\n",
        "import re\n",
        "\n",
        "def separar_edad(tramo):\n",
        "    # Expresión regular para encontrar los números en la cadena\n",
        "    match = re.findall(r'\\d+', tramo)\n",
        "\n",
        "    if len(match) == 1:\n",
        "        min_edad = int(match[0])\n",
        "        max_edad = 100\n",
        "    elif len(match) == 2:\n",
        "        min_edad = int(match[0])\n",
        "        max_edad = int(match[1])\n",
        "    else:\n",
        "        min_edad = np.nan\n",
        "        max_edad = np.nan\n",
        "\n",
        "    return pd.Series([min_edad, max_edad], dtype=int)\n",
        "\n",
        "# Aplicar la función a la columna tramo_edad\n",
        "df_provincias[['min_edad', 'max_edad']] = df_provincias['tramo_edad'].apply(separar_edad)\n",
        "\n",
        "# Convertir las nuevas columnas a tipo entero, manejando posibles NaNs\n",
        "df_provincias['min_edad'] = df_provincias['min_edad'].fillna(0).astype(int)\n",
        "df_provincias['max_edad'] = df_provincias['max_edad'].fillna(100).astype(int)\n",
        "\n",
        "df_edicion_1 = df_provincias[df_provincias['edicion'] == 1]\n",
        "\n",
        "# Filtrar para personas de 44 años o menos\n",
        "df_edad_44_o_menos = df_edicion_1[df_edicion_1['max_edad'] <= 44]\n",
        "\n",
        "# Calcular la suma de personas beneficiarias\n",
        "total_personas_beneficiarias = df_edad_44_o_menos['personas_beneficiarias'].sum()\n",
        "\n",
        "# Guardar el resultado en una variable\n",
        "respuesta_6 = int(total_personas_beneficiarias)\n",
        "\n",
        "# Mostrar el resultado\n",
        "respuesta_6\n",
        "\n",
        "\n"
      ],
      "metadata": {
        "id": "Wvbl0Vmj9T1V",
        "outputId": "6e8c8797-ca9e-4396-e0ea-b8d88ae7f8c9",
        "colab": {
          "base_uri": "https://localhost:8080/"
        }
      },
      "execution_count": 54,
      "outputs": [
        {
          "output_type": "execute_result",
          "data": {
            "text/plain": [
              "0"
            ]
          },
          "metadata": {},
          "execution_count": 54
        }
      ]
    },
    {
      "cell_type": "code",
      "source": [
        "df_vuelos.columns"
      ],
      "metadata": {
        "id": "MmhUONKMyDYG",
        "outputId": "75566e2a-4069-4a16-dfb8-8c3ff16838f3",
        "colab": {
          "base_uri": "https://localhost:8080/"
        }
      },
      "execution_count": 55,
      "outputs": [
        {
          "output_type": "execute_result",
          "data": {
            "text/plain": [
              "Index(['mes_inicio', 'provincia_origen', 'provincia_destino', 'viajes',\n",
              "       'viajeros', 'edicion'],\n",
              "      dtype='object')"
            ]
          },
          "metadata": {},
          "execution_count": 55
        }
      ]
    },
    {
      "cell_type": "code",
      "source": [
        "df_vuelos['viajeros'].head()"
      ],
      "metadata": {
        "id": "2CLeEwD0s_kw",
        "outputId": "3d3fb0f8-015c-4f07-d96d-45d76f51e001",
        "colab": {
          "base_uri": "https://localhost:8080/",
          "height": 241
        }
      },
      "execution_count": 59,
      "outputs": [
        {
          "output_type": "execute_result",
          "data": {
            "text/plain": [
              "0    22641\n",
              "1       56\n",
              "2       27\n",
              "3     1203\n",
              "4      272\n",
              "Name: viajeros, dtype: int64"
            ],
            "text/html": [
              "<table border=\"1\" class=\"dataframe\">\n",
              "  <thead>\n",
              "    <tr style=\"text-align: right;\">\n",
              "      <th></th>\n",
              "      <th>viajeros</th>\n",
              "    </tr>\n",
              "  </thead>\n",
              "  <tbody>\n",
              "    <tr>\n",
              "      <th>0</th>\n",
              "      <td>22641</td>\n",
              "    </tr>\n",
              "    <tr>\n",
              "      <th>1</th>\n",
              "      <td>56</td>\n",
              "    </tr>\n",
              "    <tr>\n",
              "      <th>2</th>\n",
              "      <td>27</td>\n",
              "    </tr>\n",
              "    <tr>\n",
              "      <th>3</th>\n",
              "      <td>1203</td>\n",
              "    </tr>\n",
              "    <tr>\n",
              "      <th>4</th>\n",
              "      <td>272</td>\n",
              "    </tr>\n",
              "  </tbody>\n",
              "</table><br><label><b>dtype:</b> int64</label>"
            ]
          },
          "metadata": {},
          "execution_count": 59
        }
      ]
    },
    {
      "cell_type": "markdown",
      "source": [
        "#### 6.b) ¿Cuántas personas de 44 años o menos fueron beneficiarias en la edición 1 de previaje?\n",
        "Guardar el valor (int) en una variable `respuesta_6`"
      ],
      "metadata": {
        "id": "KH4AOLKgH_pp"
      }
    },
    {
      "cell_type": "code",
      "source": [
        "respuesta_6 = int(total_personas_beneficiarias)\n",
        "\n",
        "print(\"Número de personas de 44 años o menos beneficiarias en la edición 1:\", respuesta_6)"
      ],
      "metadata": {
        "id": "8y1OE9x_SN_9",
        "outputId": "96628622-8258-4e29-f452-9d96cd8bd6e5",
        "colab": {
          "base_uri": "https://localhost:8080/"
        }
      },
      "execution_count": 39,
      "outputs": [
        {
          "output_type": "stream",
          "name": "stdout",
          "text": [
            "Número de personas de 44 años o menos beneficiarias en la edición 1: 0\n"
          ]
        }
      ]
    },
    {
      "cell_type": "code",
      "source": [
        "#@title Correr esta celda, copiar la respuesta y pegar el texto en el campus\n",
        "try:\n",
        "  display(str(int(respuesta_6)))\n",
        "except (NameError):\n",
        "  print(\"No se guardo una respuesta en la varible respuesta_6, copiar la siguinte respuesta:\")\n",
        "  display(str(0))\n",
        "except:\n",
        "  display(str(0))\n"
      ],
      "metadata": {
        "id": "qDG4Jc0WIFkM",
        "outputId": "790f2dac-8576-4867-b3bf-7c6549e59922",
        "colab": {
          "base_uri": "https://localhost:8080/",
          "height": 35
        }
      },
      "execution_count": 40,
      "outputs": [
        {
          "output_type": "display_data",
          "data": {
            "text/plain": [
              "'0'"
            ],
            "application/vnd.google.colaboratory.intrinsic+json": {
              "type": "string"
            }
          },
          "metadata": {}
        }
      ]
    },
    {
      "cell_type": "markdown",
      "metadata": {
        "id": "o-8E8sS2GJB0"
      },
      "source": [
        "#### 7.a) Preparar los DataFrames `df_provincias` y `df_vuelos` para unirlas (en el punto siguiente) teniendo en cuenta el siguiente objetivo:\n",
        "\n",
        "Se quiere obtener una tabla con los totales por provincia de:\n",
        "- Personas beneficiarias\n",
        "- Cantidad de viajes\n",
        "- Cantidad de pasajeros en los viajes\n",
        "\n",
        "Estos datos deben pertenecer a la **2da edicion** de previaje.\n",
        "\n",
        "Nota: En el caso de los viajes, nos interesa la provincia **de origen**.\n",
        "\n",
        "*1 punto*"
      ]
    },
    {
      "cell_type": "code",
      "source": [
        "# Filtrar los DataFrames para la 2da edición de Previaje\n",
        "df_provincias_edicion_2 = df_provincias[df_provincias['edicion'] == 2]\n",
        "df_vuelos_edicion_2 = df_vuelos[df_vuelos['edicion'] == 2]\n",
        "\n",
        "# Agrupar df_provincias por provincia y calcular la cantidad total de personas beneficiarias\n",
        "df_provincias_totales = df_provincias_edicion_2.groupby('provincia')['personas_beneficiarias'].sum().reset_index()\n",
        "df_provincias_totales.rename(columns={'personas_beneficiarias': 'total_personas_beneficiarias'}, inplace=True)\n",
        "\n",
        "# Agrupar df_vuelos por provincia de origen y calcular la cantidad de viajes y la cantidad de pasajeros\n",
        "df_vuelos_totales = df_vuelos_edicion_2.groupby('provincia_origen').agg(\n",
        "    cantidad_viajes=('viajes', 'sum'),\n",
        "    cantidad_pasajeros=('viajeros', 'sum')\n",
        ").reset_index()\n",
        "df_vuelos_totales.rename(columns={'provincia_origen': 'provincia'}, inplace=True)\n"
      ],
      "metadata": {
        "id": "d8bVUuKkyXrI"
      },
      "execution_count": 66,
      "outputs": []
    },
    {
      "cell_type": "markdown",
      "source": [
        "#### 7.b) Unir ambos DataFrames sobre las columnas `provincia` y `provincia_origen`.\n",
        "\n",
        "#### Luego, a partir de la nueva tabla, armar un diccionario con los valores de la provincia de Chaco con la siguiente estructura:\n",
        "```python\n",
        "{\n",
        "  'personas_beneficiarias': int,\n",
        "  'viajes': int,\n",
        "  'viajeros': int\n",
        "}\n",
        "```\n",
        "\n",
        "Nota:\n",
        "\n",
        "- Se puede utilizar el método `.to_dict()` de `pandas.Series` o generar el diccionario manualmente.\n",
        "- Se debe generar el diccionario únicamente con los valores especificados en el ejemplo, no agregar información extra.\n",
        "\n",
        "Guardar el diccionario en una variable `respuesta_7`\n"
      ],
      "metadata": {
        "id": "PxinvCYVI3Ce"
      }
    },
    {
      "cell_type": "code",
      "source": [
        "\n",
        "\n",
        "\n",
        "# Unir los DataFrames por provincia\n",
        "df_resultado = pd.merge(df_provincias_totales, df_vuelos_totales, on='provincia', how='outer')\n",
        "\n",
        "# Filtrar los datos para la provincia de Chaco\n",
        "chaco_data = df_resultado[df_resultado['provincia'] == 'Chaco']\n",
        "\n",
        "# Extraer los valores y crear el diccionario\n",
        "if not chaco_data.empty:\n",
        "    chaco_dict = chaco_data.iloc[0].to_dict()\n",
        "    respuesta_7 = {\n",
        "        'personas_beneficiarias': chaco_dict.get('total_personas_beneficiarias', 0),\n",
        "        'viajes': chaco_dict.get('cantidad_viajes', 0),\n",
        "        'viajeros': chaco_dict.get('cantidad_pasajeros', 0)\n",
        "    }\n",
        "else:\n",
        "    # Si no hay datos para Chaco, inicializar con ceros\n",
        "    respuesta_7 = {\n",
        "        'personas_beneficiarias': 0,\n",
        "        'viajes': 0,\n",
        "        'viajeros': 0\n",
        "    }\n",
        "\n",
        "# Mostrar el resultado\n",
        "print(respuesta_7)"
      ],
      "metadata": {
        "id": "UkaAtx8USji_",
        "outputId": "f072f171-7eea-4c13-ed2d-1909cba86a3b",
        "colab": {
          "base_uri": "https://localhost:8080/"
        }
      },
      "execution_count": 67,
      "outputs": [
        {
          "output_type": "stream",
          "name": "stdout",
          "text": [
            "{'personas_beneficiarias': 0, 'viajes': 0, 'viajeros': 0}\n"
          ]
        }
      ]
    },
    {
      "cell_type": "code",
      "metadata": {
        "id": "PxyIcyizGJB0",
        "outputId": "00357451-e9f1-4036-bac2-cc49b872ffd7",
        "colab": {
          "base_uri": "https://localhost:8080/",
          "height": 35
        }
      },
      "source": [
        "#@title Correr esta celda, copiar la respuesta y pegar el texto en el campus\n",
        "try:\n",
        "  display(str(dict(respuesta_7)))\n",
        "except (NameError):\n",
        "  print(\"No se guardo una respuesta en la varible respuesta_7, copiar la siguinte respuesta:\")\n",
        "  display(str({}))\n",
        "except:\n",
        "  display(str({}))\n"
      ],
      "execution_count": 68,
      "outputs": [
        {
          "output_type": "display_data",
          "data": {
            "text/plain": [
              "\"{'personas_beneficiarias': 0, 'viajes': 0, 'viajeros': 0}\""
            ],
            "application/vnd.google.colaboratory.intrinsic+json": {
              "type": "string"
            }
          },
          "metadata": {}
        }
      ]
    },
    {
      "cell_type": "markdown",
      "metadata": {
        "id": "ODF4BItHGJB0"
      },
      "source": [
        "### 8. Trabajando con `df_vuelos`, crear una tabla donde se observe la cantidad total de viajeros según `provincia_origen` y `provincia_destino`.\n",
        "\n",
        "- Filtrar por la **edicion 3** de previaje.\n",
        "- `provincia_origen` debe quedar como índice.\n",
        "- Los valores deben de ser de tipo **entero**.\n",
        "- Completar los valores faltantes con 0.\n",
        "\n",
        "*1 punto*\n",
        "\n",
        "#### Armar un diccionario con los valores obtenidos al calcular el **total**, el **promedio** y la **mediana** de los pasajeros con `provincia_destino` Santa Fe\n",
        "```python\n",
        "{\n",
        "  'total': float,\n",
        "  'promedio': float,\n",
        "  'mediana': float\n",
        "}\n",
        "```\n",
        "\n",
        "Nota:\n",
        "- Se puede utilizar el método `.agg()`, `.rename()` y `.to_dict()` de `pandas.Series` de la `provincia_destino` solicitada.\n",
        "- Se debe generar el diccionario únicamente con los valores especificados en el ejemplo, no agregar información extra.\n",
        "\n",
        "Guardar el diccionario solicitado en una variable `respuesta_8`\n"
      ]
    },
    {
      "cell_type": "code",
      "source": [
        "\n",
        "\n",
        "# Filtrar los datos para la edición 3 de Previaje\n",
        "df_vuelos_edicion_3 = df_vuelos[df_vuelos['edicion'] == 3]\n",
        "\n",
        "# Agrupar por provincia_origen y provincia_destino y calcular la cantidad total de viajeros\n",
        "df_viajeros_totales = df_vuelos_edicion_3.groupby(['provincia_origen', 'provincia_destino'])['viajeros'].sum().unstack(fill_value=0)\n",
        "\n",
        "# Completar valores faltantes con 0\n",
        "df_viajeros_totales = df_viajeros_totales.fillna(0).astype(int)\n",
        "\n",
        "# Mostrar la tabla con provincia_origen como índice\n",
        "print(\"Tabla de viajeros por provincia_origen y provincia_destino:\")\n",
        "print(df_viajeros_totales)\n",
        "\n",
        "# Filtrar los datos para provincia_destino igual a Santa Fe\n",
        "santa_fe_data = df_vuelos_edicion_3[df_vuelos_edicion_3['provincia_destino'] == 'Santa Fe']\n",
        "\n",
        "# Calcular el total, promedio y mediana de los viajeros para provincia_destino Santa Fe\n",
        "stats = santa_fe_data['viajeros'].agg(['sum', 'mean', 'median'])\n",
        "respuesta_8 = {\n",
        "    'total': stats['sum'],\n",
        "    'promedio': stats['mean'],\n",
        "    'mediana': stats['median']\n",
        "}\n",
        "\n",
        "# Mostrar el diccionario\n",
        "print(\"Diccionario con valores para Santa Fe:\")\n",
        "print(respuesta_8)\n"
      ],
      "metadata": {
        "id": "21TGVs3VSto4",
        "outputId": "9179403d-a180-4019-e34e-fd297a9b361d",
        "colab": {
          "base_uri": "https://localhost:8080/"
        }
      },
      "execution_count": 69,
      "outputs": [
        {
          "output_type": "stream",
          "name": "stdout",
          "text": [
            "Tabla de viajeros por provincia_origen y provincia_destino:\n",
            "Empty DataFrame\n",
            "Columns: []\n",
            "Index: []\n",
            "Diccionario con valores para Santa Fe:\n",
            "{'total': 0.0, 'promedio': nan, 'mediana': nan}\n"
          ]
        }
      ]
    },
    {
      "cell_type": "code",
      "metadata": {
        "id": "TatuApC5G5V_",
        "outputId": "d48332e4-8e71-464f-9c8c-1eba3b3166e7",
        "colab": {
          "base_uri": "https://localhost:8080/",
          "height": 35
        }
      },
      "source": [
        "#@title Correr esta celda, copiar la respuesta y pegar el texto en el campus\n",
        "try:\n",
        "  display(str(dict(respuesta_8)))\n",
        "except (NameError):\n",
        "  print(\"No se guardo una respuesta en la varible respuesta_8, copiar la siguinte respuesta:\")\n",
        "  display(str({}))\n",
        "except:\n",
        "  display(str({}))\n"
      ],
      "execution_count": 70,
      "outputs": [
        {
          "output_type": "display_data",
          "data": {
            "text/plain": [
              "\"{'total': 0.0, 'promedio': nan, 'mediana': nan}\""
            ],
            "application/vnd.google.colaboratory.intrinsic+json": {
              "type": "string"
            }
          },
          "metadata": {}
        }
      ]
    },
    {
      "cell_type": "markdown",
      "source": [
        "### 9) Trabajando con `df_provincias`, producir un gráfico donde se observe:\n",
        "- La distribución de edades de los beneficiarios (se puede utilizar `tramo_edad`, `min_edad` o `max_edad`)\n",
        "- Distinción por género\n",
        "- Ejes con títulos acordes a la información mostrada.\n",
        "\n",
        "Nota:\n",
        "- Incluir todas las ediciones del previaje y usar la librería **Plotly**.\n",
        "\n",
        "- Se debe guardar la figura en una variable `fig_9`.\n",
        "\n",
        "- En el **campus** se debe agregar como respuesta el valor que retorna la función `to_json(fig_9)`. Esta función se llama dentro de la celda oculta con titulo \"Correr esta celda, copiar la respuesta y pegar el texto en el campus\".\n",
        "\n",
        "*1 punto*"
      ],
      "metadata": {
        "id": "aATSSqnfDHGK"
      }
    },
    {
      "cell_type": "code",
      "source": [
        "import plotly.express as px\n",
        "from plotly.io import to_json\n",
        "\n",
        "import re\n",
        "import numpy as np\n",
        "\n",
        "def separar_edad(tramo):\n",
        "    # Expresión regular para encontrar los números en la cadena\n",
        "    match = re.findall(r'\\d+', tramo)\n",
        "\n",
        "    if len(match) == 1:\n",
        "        min_edad = int(match[0])\n",
        "        max_edad = 100\n",
        "    elif len(match) == 2:\n",
        "        min_edad = int(match[0])\n",
        "        max_edad = int(match[1])\n",
        "    else:\n",
        "        min_edad = np.nan\n",
        "        max_edad = np.nan\n",
        "\n",
        "    return pd.Series([min_edad, max_edad], dtype=int)\n",
        "\n",
        "# Aplicar la función a la columna tramo_edad\n",
        "df_provincias[['min_edad', 'max_edad']] = df_provincias['tramo_edad'].apply(separar_edad)\n",
        "\n",
        "# Convertir las nuevas columnas a tipo entero, manejando posibles NaNs\n",
        "df_provincias['min_edad'] = df_provincias['min_edad'].fillna(0).astype(int)\n",
        "df_provincias['max_edad'] = df_provincias['max_edad'].fillna(100).astype(int)\n",
        "\n"
      ],
      "metadata": {
        "id": "OyvJSde2EdG0"
      },
      "execution_count": 73,
      "outputs": []
    },
    {
      "cell_type": "code",
      "source": [
        "#@title Correr esta celda, copiar la respuesta y pegar el texto en el campus\n",
        "try:\n",
        "  display(str(to_json(fig_9)))\n",
        "except (NameError):\n",
        "  print(\"No se guardo una respuesta en la varible fig_9, copiar la siguinte respuesta:\")\n",
        "  display(str({}))\n",
        "except:\n",
        "  display(str({}))\n"
      ],
      "metadata": {
        "id": "ChjXNi79DNxT",
        "outputId": "c276725e-d589-4249-e02a-d9e484aef185",
        "colab": {
          "base_uri": "https://localhost:8080/",
          "height": 53
        }
      },
      "execution_count": 74,
      "outputs": [
        {
          "output_type": "stream",
          "name": "stdout",
          "text": [
            "No se guardo una respuesta en la varible fig_9, copiar la siguinte respuesta:\n"
          ]
        },
        {
          "output_type": "display_data",
          "data": {
            "text/plain": [
              "'{}'"
            ],
            "application/vnd.google.colaboratory.intrinsic+json": {
              "type": "string"
            }
          },
          "metadata": {}
        }
      ]
    },
    {
      "cell_type": "markdown",
      "metadata": {
        "id": "4bkxV063ZZXl"
      },
      "source": [
        "---\n",
        "Te enviaremos tu resultado próximamente. Cualquier consulta estamos a disposición por el canal de <a href='https://discord.gg/7G86d7p5'>Discord</a> y por correo.  \n",
        "\n",
        "<h3> <b>¡Muchas gracias! </b> </h3>\n",
        "<br>\n",
        "<table>\n",
        "<td>\n",
        "<center><img src='https://storage.googleapis.com/humai-datasets/static/logos/estudiante.png' width='150px' margin='100px'></img></center>\n",
        "<center><img src='https://storage.googleapis.com/humai-datasets/static/logos/humai(1).png' width='150px' margin='100px'></img></center>\n",
        "\n",
        "\n",
        "<a href=\"https://discord.gg/wYCA2chQvb\"><img\n",
        "        src=\"https://cdn-icons-png.flaticon.com/512/5968/5968898.png\" width=\"30px\" alt=\"discord\"></a>\n",
        "<a href=\"https://www.instagram.com/institutohumai\">\n",
        "<img src=\"https://storage.googleapis.com/humai-datasets/static/icons/ig.png\" width=\"30px\" alt=\"IG\"></a><a href=\"https://github.com/institutohumai\"><img src=\"https://storage.googleapis.com/humai-datasets/static/icons/github_b.png\" width=\"30px\" alt=\"Git\"></a><a href=\"https://www.linkedin.com/company/instituto-humai/\"><img src=\"https://storage.googleapis.com/humai-datasets/static/icons/linkedin.png\" width=\"30px\" alt=\"LinkedIn\"></a><a href=\"https://www.facebook.com/iHumai\"><img src=\"https://storage.googleapis.com/humai-datasets/static/icons/facebook.png\" width=\"30px\" alt=\"FB\"></a></center>"
      ]
    }
  ]
}